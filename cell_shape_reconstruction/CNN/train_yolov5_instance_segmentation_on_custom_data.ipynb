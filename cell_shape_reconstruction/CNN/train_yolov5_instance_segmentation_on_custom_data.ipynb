{
  "cells": [
    {
      "cell_type": "markdown",
      "metadata": {
        "id": "LGZMO4TGtpoC"
      },
      "source": [
        "# YOLOv5 Instance Segmentation Tutorial\n",
        "\n",
        "YOLOv5 supports instance segmentation tasks too. This is the official YOLOv5 instance segmentation notebook tutorial. YOLOv5 is maintained by [Ultralytics](https://github.com/ultralytics/yolov5).\n",
        "\n",
        "This notebook covers:\n",
        "\n",
        "*   Inference with out-of-the-box YOLOv5 instance segmentation on COCO-128 Segmentatation\n",
        "*  [Training YOLOv5 instance segmentation](https://blog.roboflow.com//train-yolov5-instance-segmentation-custom-dataset) on custom data\n",
        "\n",
        "*Looking for custom data? Explore over 66M community datasets on [Roboflow Universe](https://universe.roboflow.com).*\n",
        "\n",
        "This notebook was created with Google Colab. [Click here](https://colab.research.google.com/drive/1JTz7kpmHsg-5qwVz2d2IH3AaenI1tv0N?usp=sharing) to run it."
      ]
    },
    {
      "cell_type": "markdown",
      "metadata": {
        "id": "FOrS8kLhtpoE"
      },
      "source": [
        "# 0. Setup\n",
        "Pull in respective libraries to prepare the notebook environment"
      ]
    },
    {
      "cell_type": "code",
      "execution_count": 1,
      "metadata": {
        "colab": {
          "base_uri": "https://localhost:8080/"
        },
        "id": "jq6uiLRANuZR",
        "outputId": "48c320bb-271e-4be6-e0c2-3faaf4f72ea3"
      },
      "outputs": [
        {
          "name": "stdout",
          "output_type": "stream",
          "text": [
            "/home/araya/CSIC_IARB/segmentation\n"
          ]
        }
      ],
      "source": [
        "# save the working directory path for later use\n",
        "\n",
        "import os\n",
        "HOME = '/home/araya/CSIC_IARB/segmentation'\n",
        "print(HOME)"
      ]
    },
    {
      "cell_type": "code",
      "execution_count": 2,
      "metadata": {
        "colab": {
          "base_uri": "https://localhost:8080/"
        },
        "id": "OS4FLRHuwmjN",
        "outputId": "07c382a3-19ed-48d4-e31b-bc09074f714c"
      },
      "outputs": [
        {
          "name": "stderr",
          "output_type": "stream",
          "text": [
            "YOLOv5 🚀 v7.0-342-g12be4996 Python-3.9.19 torch-2.3.1+cu121 CUDA:0 (Quadro GV100, 32492MiB)\n"
          ]
        },
        {
          "name": "stdout",
          "output_type": "stream",
          "text": [
            "Setup complete ✅ (20 CPUs, 62.5 GB RAM, 870.1/937.3 GB disk)\n"
          ]
        }
      ],
      "source": [
        "# clone project repository and install dependencies\n",
        "\n",
        "!git clone https://github.com/ultralytics/yolov5.git # clone\n",
        "%cd {HOME}/yolov5\n",
        "%pip install -r requirements.txt # install\n",
        "\n",
        "import torch\n",
        "import utils\n",
        "display = utils.notebook_init()  # checks"
      ]
    },
    {
      "cell_type": "code",
      "execution_count": 52,
      "metadata": {
        "colab": {
          "base_uri": "https://localhost:8080/",
          "height": 351,
          "referenced_widgets": [
            "10d07f5dabf14a9991e3e49170fbde0a",
            "98cd63f022d74efba2a8f6bcd72243c8",
            "e70b212dd6a9471a8dabf23bb5f4e233",
            "b0516e05f0064e8e84148208eca159ae",
            "9999a69afeb54af08a1d01095e0b0fb5",
            "c07018bd1a1f4aa59ada73f10a898a36",
            "e4018da63e4c4c43a8d2dddbaefb32dc",
            "7e3fec6b1c6044319e2ba04601508305",
            "619231d2e8b74e6e8ec312c2a81f27e9",
            "7573e2b0939c49a9a1322e49b37a5327",
            "c42a803dd3e8437db5f3f569d29de75b",
            "75992a102abf4923a9fca346d3b595ed",
            "53375459522b4a84933f0635fb5f37ff",
            "b8bccf925c9b4bb8bbd14de7a1bf9b3c",
            "e196473d96e64382a8833616b8efbf94",
            "a571de8046a44c80bb404e78aebef18f",
            "b031955367b444069419cd9935917de8",
            "702668c18569441b8b58b2f372aee2bc",
            "7442dfb015fd4fb58aeaa4ec5253fde0",
            "6c1f41d3199743b18d91950777bdcb3f",
            "c4b217d1bf174844a5b2635b9e27d451",
            "62aa270cd33f4a23ba286194a08ce058",
            "04465b6bb4094f27b4b8b02939b0525b",
            "ed3649aed0db4215b93167305c4415aa",
            "8d37985bcaae4dbe883e04a08b10dba1",
            "288371c279984f3ca3da1f6faedb5759",
            "4f685d9a22c8497b89215c3cb76b022b",
            "6abd641cfffe4b5f9ce282aedf002275",
            "9bfb19becf1c4c21b706a0b3090a745e",
            "8d95139848ed41cc83f5a1bd8d5c1699",
            "f478fdecbde6486486117df31ec64030",
            "ef917512acea4bed835df94e695b6169",
            "3c76ed721e4b4a1c89c9ac6d3aab1ad5",
            "e32308b669834bca89846abc7a96b714",
            "f71668b8d74340cdb606e136da84d6b5",
            "f1a18f82e7ff40388558f0be0970ca7d",
            "06d2c07c23614320a5cb67e3ebe87cb3",
            "eb853050f5f74c57b9bf8e1138fadc36",
            "924e8f677ec34b84a28121e9d3d3e374",
            "2fc330dd3c7f4295b69d04f388279559",
            "c5ad7971085f4ce5a7896c7b9fc148d1",
            "cfc734982793467e8c273f4be2a82f92",
            "b1d4ad44c88647bb8ad351dcf4903e34",
            "30e9cf9e3b6a4b84a35c52d7b10a14a9",
            "f955de9788474d0bb4d2906c24810a58",
            "ffe20372db01446bbdd9d56ba6df9961",
            "b47cba8edfda490ca43cd6055f54c876",
            "1647655d03fc402792c1cf5c25c08c93",
            "7fd89ee65a2840739c9593a0b87c0306",
            "b5487938a4714c1386578b7f5d96e102",
            "fb4c3283175b4e52b15ce9fd382a6d85",
            "9538075b2d5d4b7ba0cae210725d4525",
            "4b2dc714c37644a4885c9dfeed0300e9",
            "da8bc2d58eb54517b3ded682955a1757",
            "a51711406cf643cd9e1d49f89f81fcdc"
          ]
        },
        "id": "Du_johz9NuZS",
        "outputId": "ba95e6f4-4f2d-48ef-9b77-3b8e5d18345f"
      },
      "outputs": [
        {
          "name": "stderr",
          "output_type": "stream",
          "text": [
            "Downloading https://github.com/ultralytics/yolov5/releases/download/v7.0/yolov5n-seg.pt to /home/araya/CSIC_IARB/segmentation/yolov5/weights/yolov5n-seg.pt...\n",
            "100%|██████████| 4.11M/4.11M [00:00<00:00, 40.7MB/s]\n",
            "\n",
            "Downloading https://github.com/ultralytics/yolov5/releases/download/v7.0/yolov5s-seg.pt to /home/araya/CSIC_IARB/segmentation/yolov5/weights/yolov5s-seg.pt...\n",
            "100%|██████████| 14.9M/14.9M [00:00<00:00, 86.7MB/s]\n",
            "\n",
            "Downloading https://github.com/ultralytics/yolov5/releases/download/v7.0/yolov5m-seg.pt to /home/araya/CSIC_IARB/segmentation/yolov5/weights/yolov5m-seg.pt...\n",
            "100%|██████████| 42.4M/42.4M [00:00<00:00, 103MB/s] \n",
            "\n",
            "Downloading https://github.com/ultralytics/yolov5/releases/download/v7.0/yolov5l-seg.pt to /home/araya/CSIC_IARB/segmentation/yolov5/weights/yolov5l-seg.pt...\n",
            "100%|██████████| 91.9M/91.9M [00:00<00:00, 105MB/s] \n",
            "\n",
            "Downloading https://github.com/ultralytics/yolov5/releases/download/v7.0/yolov5x-seg.pt to /home/araya/CSIC_IARB/segmentation/yolov5/weights/yolov5x-seg.pt...\n",
            "100%|██████████| 170M/170M [00:01<00:00, 113MB/s]  \n",
            "\n"
          ]
        }
      ],
      "source": [
        "# download pretrained weights\n",
        "\n",
        "from utils.downloads import attempt_download\n",
        "\n",
        "p5 = ['n', 's', 'm', 'l', 'x']  # P5 models\n",
        "cls = [f'{x}-seg' for x in p5]  # segmentation models\n",
        "\n",
        "for x in cls:\n",
        "    attempt_download(f'{HOME}/yolov5/weights/yolov5{x}.pt')"
      ]
    },
    {
      "cell_type": "markdown",
      "metadata": {
        "id": "f-jxN_hqNuZS"
      },
      "source": [
        "# 1. Inference on test image"
      ]
    },
    {
      "cell_type": "markdown",
      "metadata": {
        "id": "yHxvNxYKNuZS"
      },
      "source": [
        "To demonstrate YOLOv5 instance segmentation, we'll leverage an already trained model. In this case, we'll download the COCO-128 trained models pretrained on COCO-128 using YOLOv5 Utils.\n",
        "\n",
        "If you'd like to skip to custom trainining, jump to section 3 below."
      ]
    },
    {
      "cell_type": "code",
      "execution_count": 35,
      "metadata": {
        "colab": {
          "base_uri": "https://localhost:8080/",
          "height": 993
        },
        "id": "VonzxDCoNuZT",
        "outputId": "5173a4a4-ec4d-4bb5-8189-45f25f59dd37"
      },
      "outputs": [
        {
          "name": "stdout",
          "output_type": "stream",
          "text": [
            "[Errno 2] No such file or directory: '/home/araya/CSIC_IARB/segmentation/segmentation/yolov5/yolov5/yolov5'\n",
            "/home/araya/CSIC_IARB/segmentation/segmentation/yolov5/yolov5\n",
            "\u001b[34m\u001b[1msegment/predict: \u001b[0mweights=['weights/yolov5s-seg.pt'], source=data/images/bus.jpg, data=data/coco128.yaml, imgsz=[640, 640], conf_thres=0.25, iou_thres=0.45, max_det=1000, device=, view_img=False, save_txt=False, save_conf=False, save_crop=False, nosave=False, classes=None, agnostic_nms=False, augment=False, visualize=False, update=False, project=runs/predict-seg, name=test-inference, exist_ok=False, line_thickness=3, hide_labels=False, hide_conf=False, half=False, dnn=False, vid_stride=1, retina_masks=False\n",
            "YOLOv5 🚀 v7.0-342-g12be4996 Python-3.9.19 torch-2.3.1+cu121 CUDA:0 (Quadro GV100, 32492MiB)\n",
            "\n",
            "Fusing layers... \n",
            "YOLOv5s-seg summary: 224 layers, 7611485 parameters, 0 gradients, 26.4 GFLOPs\n",
            "image 1/1 /home/araya/CSIC_IARB/segmentation/segmentation/yolov5/yolov5/data/images/bus.jpg: 640x480 4 persons, 1 bus, 58.1ms\n",
            "Speed: 0.4ms pre-process, 58.1ms inference, 175.9ms NMS per image at shape (1, 3, 640, 640)\n",
            "Results saved to \u001b[1mruns/predict-seg/test-inference\u001b[0m\n"
          ]
        },
        {
          "ename": "FileNotFoundError",
          "evalue": "[Errno 2] No such file or directory: '/home/araya/CSIC_IARB/segmentation/segmentation/yolov5/yolov5/yolov5/runs/predict-seg/test-inference/bus.jpg'",
          "output_type": "error",
          "traceback": [
            "\u001b[0;31m---------------------------------------------------------------------------\u001b[0m",
            "\u001b[0;31mFileNotFoundError\u001b[0m                         Traceback (most recent call last)",
            "Input \u001b[0;32mIn [35]\u001b[0m, in \u001b[0;36m<cell line: 5>\u001b[0;34m()\u001b[0m\n\u001b[1;32m      3\u001b[0m get_ipython()\u001b[38;5;241m.\u001b[39mrun_line_magic(\u001b[38;5;124m'\u001b[39m\u001b[38;5;124mcd\u001b[39m\u001b[38;5;124m'\u001b[39m, \u001b[38;5;124m'\u001b[39m\u001b[38;5;132;01m{HOME}\u001b[39;00m\u001b[38;5;124m/yolov5\u001b[39m\u001b[38;5;124m'\u001b[39m)\n\u001b[1;32m      4\u001b[0m get_ipython()\u001b[38;5;241m.\u001b[39msystem(\u001b[38;5;124m'\u001b[39m\u001b[38;5;124mpython segment/predict.py --weights weights/yolov5s-seg.pt --source data/images/bus.jpg --name test-inference\u001b[39m\u001b[38;5;124m'\u001b[39m)\n\u001b[0;32m----> 5\u001b[0m \u001b[43mdisplay\u001b[49m\u001b[38;5;241;43m.\u001b[39;49m\u001b[43mImage\u001b[49m\u001b[43m(\u001b[49m\u001b[43mfilename\u001b[49m\u001b[38;5;241;43m=\u001b[39;49m\u001b[38;5;124;43mf\u001b[39;49m\u001b[38;5;124;43m\"\u001b[39;49m\u001b[38;5;132;43;01m{\u001b[39;49;00m\u001b[43mHOME\u001b[49m\u001b[38;5;132;43;01m}\u001b[39;49;00m\u001b[38;5;124;43m/yolov5/runs/predict-seg/test-inference/bus.jpg\u001b[39;49m\u001b[38;5;124;43m\"\u001b[39;49m\u001b[43m,\u001b[49m\u001b[43m \u001b[49m\u001b[43mwidth\u001b[49m\u001b[38;5;241;43m=\u001b[39;49m\u001b[38;5;241;43m600\u001b[39;49m\u001b[43m)\u001b[49m\n",
            "File \u001b[0;32m~/.conda/envs/ultralytics/lib/python3.9/site-packages/IPython/core/display.py:957\u001b[0m, in \u001b[0;36mImage.__init__\u001b[0;34m(self, data, url, filename, format, embed, width, height, retina, unconfined, metadata, alt)\u001b[0m\n\u001b[1;32m    955\u001b[0m \u001b[38;5;28mself\u001b[39m\u001b[38;5;241m.\u001b[39munconfined \u001b[38;5;241m=\u001b[39m unconfined\n\u001b[1;32m    956\u001b[0m \u001b[38;5;28mself\u001b[39m\u001b[38;5;241m.\u001b[39malt \u001b[38;5;241m=\u001b[39m alt\n\u001b[0;32m--> 957\u001b[0m \u001b[38;5;28;43msuper\u001b[39;49m\u001b[43m(\u001b[49m\u001b[43mImage\u001b[49m\u001b[43m,\u001b[49m\u001b[43m \u001b[49m\u001b[38;5;28;43mself\u001b[39;49m\u001b[43m)\u001b[49m\u001b[38;5;241;43m.\u001b[39;49m\u001b[38;5;21;43m__init__\u001b[39;49m\u001b[43m(\u001b[49m\u001b[43mdata\u001b[49m\u001b[38;5;241;43m=\u001b[39;49m\u001b[43mdata\u001b[49m\u001b[43m,\u001b[49m\u001b[43m \u001b[49m\u001b[43murl\u001b[49m\u001b[38;5;241;43m=\u001b[39;49m\u001b[43murl\u001b[49m\u001b[43m,\u001b[49m\u001b[43m \u001b[49m\u001b[43mfilename\u001b[49m\u001b[38;5;241;43m=\u001b[39;49m\u001b[43mfilename\u001b[49m\u001b[43m,\u001b[49m\n\u001b[1;32m    958\u001b[0m \u001b[43m        \u001b[49m\u001b[43mmetadata\u001b[49m\u001b[38;5;241;43m=\u001b[39;49m\u001b[43mmetadata\u001b[49m\u001b[43m)\u001b[49m\n\u001b[1;32m    960\u001b[0m \u001b[38;5;28;01mif\u001b[39;00m \u001b[38;5;28mself\u001b[39m\u001b[38;5;241m.\u001b[39mwidth \u001b[38;5;129;01mis\u001b[39;00m \u001b[38;5;28;01mNone\u001b[39;00m \u001b[38;5;129;01mand\u001b[39;00m \u001b[38;5;28mself\u001b[39m\u001b[38;5;241m.\u001b[39mmetadata\u001b[38;5;241m.\u001b[39mget(\u001b[38;5;124m'\u001b[39m\u001b[38;5;124mwidth\u001b[39m\u001b[38;5;124m'\u001b[39m, {}):\n\u001b[1;32m    961\u001b[0m     \u001b[38;5;28mself\u001b[39m\u001b[38;5;241m.\u001b[39mwidth \u001b[38;5;241m=\u001b[39m metadata[\u001b[38;5;124m'\u001b[39m\u001b[38;5;124mwidth\u001b[39m\u001b[38;5;124m'\u001b[39m]\n",
            "File \u001b[0;32m~/.conda/envs/ultralytics/lib/python3.9/site-packages/IPython/core/display.py:327\u001b[0m, in \u001b[0;36mDisplayObject.__init__\u001b[0;34m(self, data, url, filename, metadata)\u001b[0m\n\u001b[1;32m    324\u001b[0m \u001b[38;5;28;01melif\u001b[39;00m \u001b[38;5;28mself\u001b[39m\u001b[38;5;241m.\u001b[39mmetadata \u001b[38;5;129;01mis\u001b[39;00m \u001b[38;5;28;01mNone\u001b[39;00m:\n\u001b[1;32m    325\u001b[0m     \u001b[38;5;28mself\u001b[39m\u001b[38;5;241m.\u001b[39mmetadata \u001b[38;5;241m=\u001b[39m {}\n\u001b[0;32m--> 327\u001b[0m \u001b[38;5;28;43mself\u001b[39;49m\u001b[38;5;241;43m.\u001b[39;49m\u001b[43mreload\u001b[49m\u001b[43m(\u001b[49m\u001b[43m)\u001b[49m\n\u001b[1;32m    328\u001b[0m \u001b[38;5;28mself\u001b[39m\u001b[38;5;241m.\u001b[39m_check_data()\n",
            "File \u001b[0;32m~/.conda/envs/ultralytics/lib/python3.9/site-packages/IPython/core/display.py:992\u001b[0m, in \u001b[0;36mImage.reload\u001b[0;34m(self)\u001b[0m\n\u001b[1;32m    990\u001b[0m \u001b[38;5;250m\u001b[39m\u001b[38;5;124;03m\"\"\"Reload the raw data from file or URL.\"\"\"\u001b[39;00m\n\u001b[1;32m    991\u001b[0m \u001b[38;5;28;01mif\u001b[39;00m \u001b[38;5;28mself\u001b[39m\u001b[38;5;241m.\u001b[39membed:\n\u001b[0;32m--> 992\u001b[0m     \u001b[38;5;28;43msuper\u001b[39;49m\u001b[43m(\u001b[49m\u001b[43mImage\u001b[49m\u001b[43m,\u001b[49m\u001b[38;5;28;43mself\u001b[39;49m\u001b[43m)\u001b[49m\u001b[38;5;241;43m.\u001b[39;49m\u001b[43mreload\u001b[49m\u001b[43m(\u001b[49m\u001b[43m)\u001b[49m\n\u001b[1;32m    993\u001b[0m     \u001b[38;5;28;01mif\u001b[39;00m \u001b[38;5;28mself\u001b[39m\u001b[38;5;241m.\u001b[39mretina:\n\u001b[1;32m    994\u001b[0m         \u001b[38;5;28mself\u001b[39m\u001b[38;5;241m.\u001b[39m_retina_shape()\n",
            "File \u001b[0;32m~/.conda/envs/ultralytics/lib/python3.9/site-packages/IPython/core/display.py:353\u001b[0m, in \u001b[0;36mDisplayObject.reload\u001b[0;34m(self)\u001b[0m\n\u001b[1;32m    351\u001b[0m \u001b[38;5;28;01mif\u001b[39;00m \u001b[38;5;28mself\u001b[39m\u001b[38;5;241m.\u001b[39mfilename \u001b[38;5;129;01mis\u001b[39;00m \u001b[38;5;129;01mnot\u001b[39;00m \u001b[38;5;28;01mNone\u001b[39;00m:\n\u001b[1;32m    352\u001b[0m     encoding \u001b[38;5;241m=\u001b[39m \u001b[38;5;28;01mNone\u001b[39;00m \u001b[38;5;28;01mif\u001b[39;00m \u001b[38;5;124m\"\u001b[39m\u001b[38;5;124mb\u001b[39m\u001b[38;5;124m\"\u001b[39m \u001b[38;5;129;01min\u001b[39;00m \u001b[38;5;28mself\u001b[39m\u001b[38;5;241m.\u001b[39m_read_flags \u001b[38;5;28;01melse\u001b[39;00m \u001b[38;5;124m\"\u001b[39m\u001b[38;5;124mutf-8\u001b[39m\u001b[38;5;124m\"\u001b[39m\n\u001b[0;32m--> 353\u001b[0m     \u001b[38;5;28;01mwith\u001b[39;00m \u001b[38;5;28;43mopen\u001b[39;49m\u001b[43m(\u001b[49m\u001b[38;5;28;43mself\u001b[39;49m\u001b[38;5;241;43m.\u001b[39;49m\u001b[43mfilename\u001b[49m\u001b[43m,\u001b[49m\u001b[43m \u001b[49m\u001b[38;5;28;43mself\u001b[39;49m\u001b[38;5;241;43m.\u001b[39;49m\u001b[43m_read_flags\u001b[49m\u001b[43m,\u001b[49m\u001b[43m \u001b[49m\u001b[43mencoding\u001b[49m\u001b[38;5;241;43m=\u001b[39;49m\u001b[43mencoding\u001b[49m\u001b[43m)\u001b[49m \u001b[38;5;28;01mas\u001b[39;00m f:\n\u001b[1;32m    354\u001b[0m         \u001b[38;5;28mself\u001b[39m\u001b[38;5;241m.\u001b[39mdata \u001b[38;5;241m=\u001b[39m f\u001b[38;5;241m.\u001b[39mread()\n\u001b[1;32m    355\u001b[0m \u001b[38;5;28;01melif\u001b[39;00m \u001b[38;5;28mself\u001b[39m\u001b[38;5;241m.\u001b[39murl \u001b[38;5;129;01mis\u001b[39;00m \u001b[38;5;129;01mnot\u001b[39;00m \u001b[38;5;28;01mNone\u001b[39;00m:\n\u001b[1;32m    356\u001b[0m     \u001b[38;5;66;03m# Deferred import\u001b[39;00m\n",
            "\u001b[0;31mFileNotFoundError\u001b[0m: [Errno 2] No such file or directory: '/home/araya/CSIC_IARB/segmentation/segmentation/yolov5/yolov5/yolov5/runs/predict-seg/test-inference/bus.jpg'"
          ]
        }
      ],
      "source": [
        "# infer using segment/predict.py\n",
        "\n",
        "%cd {HOME}/yolov5\n",
        "!python segment/predict.py --weights weights/yolov5s-seg.pt --source data/images/bus.jpg --name test-inference\n",
        "display.Image(filename=f\"{HOME}/yolov5/runs/predict-seg/test-inference/bus.jpg\", width=600)"
      ]
    },
    {
      "cell_type": "markdown",
      "metadata": {
        "id": "5Cq3_LmPNuZT"
      },
      "source": [
        "# 2. Infer on COCO image"
      ]
    },
    {
      "cell_type": "code",
      "execution_count": null,
      "metadata": {
        "id": "mLJ9V67px8AO"
      },
      "outputs": [],
      "source": [
        "#Download example image\n",
        "import requests\n",
        "image_url = \"https://i.imgur.com/EbOBS5l.jpg\"\n",
        "response = requests.get(image_url)\n",
        "response.raise_for_status()\n",
        "with open(f\"{HOME}/yolov5/data/images/zebra.jpg\", \"wb\") as handler:\n",
        "    handler.write(response.content)"
      ]
    },
    {
      "cell_type": "code",
      "execution_count": null,
      "metadata": {
        "colab": {
          "base_uri": "https://localhost:8080/",
          "height": 592
        },
        "id": "QwheIrVZ0mAl",
        "outputId": "d79aa128-7375-420c-d156-bbed0c6f2151"
      },
      "outputs": [
        {
          "name": "stdout",
          "output_type": "stream",
          "text": [
            "/content/yolov5\n",
            "\u001b[34m\u001b[1msegment/predict: \u001b[0mweights=['weights/yolov5s-seg.pt'], source=data/images/zebra.jpg, data=data/coco128.yaml, imgsz=[640, 640], conf_thres=0.25, iou_thres=0.45, max_det=1000, device=, view_img=False, save_txt=False, save_conf=False, save_crop=False, nosave=False, classes=None, agnostic_nms=False, augment=False, visualize=False, update=False, project=runs/predict-seg, name=coco, exist_ok=False, line_thickness=3, hide_labels=False, hide_conf=False, half=False, dnn=False, vid_stride=1, retina_masks=False\n",
            "YOLOv5 🚀 v7.0-13-gb412696 Python-3.8.15 torch-1.12.1+cu113 CUDA:0 (Tesla T4, 15110MiB)\n",
            "\n",
            "Fusing layers... \n",
            "YOLOv5s-seg summary: 224 layers, 7611485 parameters, 0 gradients, 26.4 GFLOPs\n",
            "image 1/1 /content/yolov5/data/images/zebra.jpg: 448x640 1 zebra, 14.6ms\n",
            "Speed: 0.5ms pre-process, 14.6ms inference, 1.5ms NMS per image at shape (1, 3, 640, 640)\n",
            "Results saved to \u001b[1mruns/predict-seg/coco\u001b[0m\n"
          ]
        },
        {
          "data": {
            "image/jpeg": "[encoded data removed]",
            "text/plain": [
              "<IPython.core.display.Image object>"
            ]
          },
          "execution_count": 6,
          "metadata": {
            "image/jpeg": {
              "width": 600
            }
          },
          "output_type": "execute_result"
        }
      ],
      "source": [
        "#Infer using segment/predict.py\n",
        "%cd {HOME}/yolov5\n",
        "!python segment/predict.py --weights weights/yolov5s-seg.pt --source data/images/zebra.jpg --name coco\n",
        "display.Image(filename=f\"{HOME}/yolov5/runs/predict-seg/coco/zebra.jpg\", width=600)"
      ]
    },
    {
      "cell_type": "markdown",
      "metadata": {
        "id": "JYgLUWYdtpoH"
      },
      "source": [
        "## 3. (Optional) Validate\n",
        "\n",
        "Use the `segment/val.py` script to run validation for the model. This will show us the model's performance.\n",
        "\n",
        "First, we need to download COCO-128."
      ]
    },
    {
      "cell_type": "code",
      "execution_count": null,
      "metadata": {
        "colab": {
          "base_uri": "https://localhost:8080/",
          "height": 49,
          "referenced_widgets": [
            "5b3140d9d3404ccda7f101027f8aed7b",
            "cb5d5ff2742d44cc84d23c94432f3e50",
            "e913ef94646442e9b51717a1f5ba1da7",
            "0ae8a38c04ae466cbaea5b3419dcc6f8",
            "d5f9932399b84a229b40ca030aa12852",
            "7159a0665d7d40dd9edf8afb1d15bdb2",
            "15191f4aecb043f692baffe88b5e4fb1",
            "524a0a2883574902b66800eab0e64e11",
            "009934aed23440028f204e660387ba9a",
            "2bfa5dce91bc4820aedb20241e394bfe",
            "157bc244ee834b83a25e1dbbda51bb41"
          ]
        },
        "id": "ykGYRklD_Bqn",
        "outputId": "1bbb50e5-f1fc-4415-8aea-526e8ac4ef85"
      },
      "outputs": [
        {
          "data": {
            "application/vnd.jupyter.widget-view+json": {
              "model_id": "5b3140d9d3404ccda7f101027f8aed7b",
              "version_major": 2,
              "version_minor": 0
            },
            "text/plain": [
              "  0%|          | 0.00/6.79M [00:00<?, ?B/s]"
            ]
          },
          "metadata": {},
          "output_type": "display_data"
        }
      ],
      "source": [
        "torch.hub.download_url_to_file(\"https://ultralytics.com/assets/coco128-seg.zip\", f\"{HOME}/tmp.zip\")\n",
        "!unzip -q {HOME}/tmp.zip -d {HOME}/yolov5/datasets\n",
        "!rm {HOME}/tmp.zip"
      ]
    },
    {
      "cell_type": "code",
      "execution_count": null,
      "metadata": {
        "colab": {
          "base_uri": "https://localhost:8080/"
        },
        "id": "eQUhbqy7FfpG",
        "outputId": "0b4995b0-c8a4-4fe3-9692-7cee2f3a3d60"
      },
      "outputs": [
        {
          "name": "stdout",
          "output_type": "stream",
          "text": [
            "/content/yolov5\n",
            "\u001b[34m\u001b[1msegment/val: \u001b[0mdata=/content/yolov5/data/coco128-seg.yaml, weights=['yolov5s-seg.pt'], batch_size=32, imgsz=640, conf_thres=0.001, iou_thres=0.6, max_det=300, task=val, device=, workers=8, single_cls=False, augment=False, verbose=False, save_txt=False, save_hybrid=False, save_conf=False, save_json=False, project=runs/val-seg, name=coco, exist_ok=False, half=False, dnn=False\n",
            "YOLOv5 🚀 v7.0-13-gb412696 Python-3.8.15 torch-1.12.1+cu113 CUDA:0 (Tesla T4, 15110MiB)\n",
            "\n",
            "Downloading https://github.com/ultralytics/yolov5/releases/download/v7.0/yolov5s-seg.pt to yolov5s-seg.pt...\n",
            "100% 14.9M/14.9M [00:00<00:00, 25.9MB/s]\n",
            "\n",
            "Fusing layers... \n",
            "YOLOv5s-seg summary: 224 layers, 7611485 parameters, 0 gradients, 26.4 GFLOPs\n",
            "\n",
            "Dataset not found ⚠️, missing paths ['/content/datasets/coco128-seg/images/train2017']\n",
            "Downloading https://ultralytics.com/assets/coco128-seg.zip to coco128-seg.zip...\n",
            "100% 6.79M/6.79M [00:00<00:00, 90.8MB/s]\n",
            "Dataset download success ✅ (0.5s), saved to \u001b[1m/content/datasets\u001b[0m\n",
            "\u001b[34m\u001b[1mval: \u001b[0mScanning /content/datasets/coco128-seg/labels/train2017... 126 images, 2 backgrounds, 0 corrupt: 100% 128/128 [00:00<00:00, 895.48it/s]\n",
            "\u001b[34m\u001b[1mval: \u001b[0mNew cache created: /content/datasets/coco128-seg/labels/train2017.cache\n",
            "                 Class     Images  Instances      Box(P          R      mAP50  mAP50-95)     Mask(P          R      mAP50  mAP50-95): 100% 4/4 [00:14<00:00,  3.56s/it]\n",
            "                   all        128        929      0.709      0.651      0.711      0.487      0.677      0.626      0.661      0.403\n",
            "Speed: 3.2ms pre-process, 9.5ms inference, 6.4ms NMS per image at shape (32, 3, 640, 640)\n",
            "Results saved to \u001b[1mruns/val-seg/coco\u001b[0m\n"
          ]
        }
      ],
      "source": [
        "%cd {HOME}/yolov5\n",
        "!python segment/val.py --weights yolov5s-seg.pt --data coco128-seg.yaml --img 640 --name coco"
      ]
    },
    {
      "cell_type": "markdown",
      "metadata": {
        "id": "5zgX0LMDtpoI"
      },
      "source": [
        "The output shows performance metrics for the COCO-128 validation dataset."
      ]
    },
    {
      "cell_type": "markdown",
      "metadata": {
        "id": "tEFcAs9wtpoI"
      },
      "source": [
        "# 4. Train On Custom Data\n",
        "\n",
        "To train on custom data, we need to prepare a dataset with custom labels.\n",
        "\n",
        "To prepare custom data, we'll use [Roboflow](https://roboflow.com). Roboflow enables easy dataset prep with your team, including labeling, formatting into the right export format, deploying, and active learning with a `pip` package.\n",
        "\n",
        "If you need custom data, there are over 66M open source images from the community on [Roboflow Universe](https://universe.roboflow.com).\n",
        "\n",
        "(For more guidance, here's a detailed blog on [training YOLOv5 instance segmentation on custom data](https://blog.roboflow.com/train-yolov5-instance-segmentation-custom-dataset).)\n",
        "\n",
        "\n",
        "Create a free Roboflow account, upload your data, and label.\n",
        "\n",
        "![](https://robflow-public-assets.s3.amazonaws.com/how-to-train-yolov5-segmentation-annotation.gif)"
      ]
    },
    {
      "cell_type": "markdown",
      "metadata": {
        "id": "I0BH738HtpoI"
      },
      "source": [
        "### Load Custom Dataset\n",
        "\n",
        "Next, we'll export our dataset into the right directory structure for training YOLOv5 segmentation to load into this notebook. Select the `Export` button at the top of the version page, `YOLO v5 Pytorch` type, and `show download code`.\n",
        "\n",
        "This ensures all our directories are in the right format with the needed data.yaml file:\n",
        "\n",
        "```\n",
        "dataset\n",
        "├── train\n",
        "│   ├── images\n",
        "│   │   ├── IMG_123.jpg\n",
        "│   └── labels\n",
        "│       ├── IMG_123.txt\n",
        "├── valid\n",
        "│   ├── images\n",
        "│   │   ├── IMG_456.jpg\n",
        "│   └── labels\n",
        "│       ├── IMG_456.txt\n",
        "├── test\n",
        "│   ├── images\n",
        "│   │   ├── IMG_789.jpg\n",
        "│   └── labels\n",
        "│       ├── IMG_789.txt\n",
        "├── data.yaml\n",
        "├── README.roboflow.txt\n",
        "```\n",
        "\n",
        "![](https://robflow-public-assets.s3.amazonaws.com/how-to-train-yolov5-segmentation-format.gif)\n",
        "\n",
        "\n",
        "Copy and paste that snippet into the cell below."
      ]
    },
    {
      "cell_type": "code",
      "execution_count": 3,
      "metadata": {
        "colab": {
          "base_uri": "https://localhost:8080/",
          "height": 1000
        },
        "id": "wtqZdTl4GG8N",
        "outputId": "d4bfbb63-d9f9-4950-b5ae-cdea7592dbed"
      },
      "outputs": [
        {
          "name": "stdout",
          "output_type": "stream",
          "text": [
            "/home/araya/CSIC_IARB/segmentation/yolov5\n",
            "Requirement already satisfied: roboflow in /home/araya/.conda/envs/ultralytics/lib/python3.9/site-packages (1.1.34)\n",
            "Requirement already satisfied: certifi in /home/araya/.conda/envs/ultralytics/lib/python3.9/site-packages (from roboflow) (2024.6.2)\n",
            "Requirement already satisfied: chardet==4.0.0 in /home/araya/.conda/envs/ultralytics/lib/python3.9/site-packages (from roboflow) (4.0.0)\n",
            "Requirement already satisfied: idna==3.7 in /home/araya/.conda/envs/ultralytics/lib/python3.9/site-packages (from roboflow) (3.7)\n",
            "Requirement already satisfied: cycler in /home/araya/.conda/envs/ultralytics/lib/python3.9/site-packages (from roboflow) (0.11.0)\n",
            "Requirement already satisfied: kiwisolver>=1.3.1 in /home/araya/.conda/envs/ultralytics/lib/python3.9/site-packages (from roboflow) (1.4.4)\n",
            "Requirement already satisfied: matplotlib in /home/araya/.conda/envs/ultralytics/lib/python3.9/site-packages (from roboflow) (3.8.4)\n",
            "Requirement already satisfied: numpy>=1.18.5 in /home/araya/.conda/envs/ultralytics/lib/python3.9/site-packages (from roboflow) (1.26.4)\n",
            "Requirement already satisfied: opencv-python-headless==4.10.0.84 in /home/araya/.conda/envs/ultralytics/lib/python3.9/site-packages (from roboflow) (4.10.0.84)\n",
            "Requirement already satisfied: Pillow>=7.1.2 in /home/araya/.conda/envs/ultralytics/lib/python3.9/site-packages (from roboflow) (10.3.0)\n",
            "Requirement already satisfied: python-dateutil in /home/araya/.conda/envs/ultralytics/lib/python3.9/site-packages (from roboflow) (2.9.0.post0)\n",
            "Requirement already satisfied: python-dotenv in /home/araya/.conda/envs/ultralytics/lib/python3.9/site-packages (from roboflow) (1.0.1)\n",
            "Requirement already satisfied: requests in /home/araya/.conda/envs/ultralytics/lib/python3.9/site-packages (from roboflow) (2.32.2)\n",
            "Requirement already satisfied: six in /home/araya/.conda/envs/ultralytics/lib/python3.9/site-packages (from roboflow) (1.16.0)\n",
            "Requirement already satisfied: urllib3>=1.26.6 in /home/araya/.conda/envs/ultralytics/lib/python3.9/site-packages (from roboflow) (2.2.2)\n",
            "Requirement already satisfied: tqdm>=4.41.0 in /home/araya/.conda/envs/ultralytics/lib/python3.9/site-packages (from roboflow) (4.66.4)\n",
            "Requirement already satisfied: PyYAML>=5.3.1 in /home/araya/.conda/envs/ultralytics/lib/python3.9/site-packages (from roboflow) (6.0.1)\n",
            "Requirement already satisfied: requests-toolbelt in /home/araya/.conda/envs/ultralytics/lib/python3.9/site-packages (from roboflow) (1.0.0)\n",
            "Requirement already satisfied: python-magic in /home/araya/.conda/envs/ultralytics/lib/python3.9/site-packages (from roboflow) (0.4.27)\n",
            "Requirement already satisfied: contourpy>=1.0.1 in /home/araya/.conda/envs/ultralytics/lib/python3.9/site-packages (from matplotlib->roboflow) (1.2.0)\n",
            "Requirement already satisfied: fonttools>=4.22.0 in /home/araya/.conda/envs/ultralytics/lib/python3.9/site-packages (from matplotlib->roboflow) (4.51.0)\n",
            "Requirement already satisfied: packaging>=20.0 in /home/araya/.conda/envs/ultralytics/lib/python3.9/site-packages (from matplotlib->roboflow) (23.2)\n",
            "Requirement already satisfied: pyparsing>=2.3.1 in /home/araya/.conda/envs/ultralytics/lib/python3.9/site-packages (from matplotlib->roboflow) (3.0.9)\n",
            "Requirement already satisfied: importlib-resources>=3.2.0 in /home/araya/.conda/envs/ultralytics/lib/python3.9/site-packages (from matplotlib->roboflow) (6.1.1)\n",
            "Requirement already satisfied: charset-normalizer<4,>=2 in /home/araya/.conda/envs/ultralytics/lib/python3.9/site-packages (from requests->roboflow) (2.0.4)\n",
            "Requirement already satisfied: zipp>=3.1.0 in /home/araya/.conda/envs/ultralytics/lib/python3.9/site-packages (from importlib-resources>=3.2.0->matplotlib->roboflow) (3.17.0)\n",
            "Note: you may need to restart the kernel to use updated packages.\n",
            "loading Roboflow workspace...\n",
            "loading Roboflow project...\n"
          ]
        }
      ],
      "source": [
        "%cd {HOME}/yolov5\n",
        "%pip install roboflow\n",
        "\n",
        "from roboflow import Roboflow\n",
        "rf = Roboflow(api_key=\"fekKRSnXXfEB49ck6xjp\")\n",
        "project = rf.workspace(\"raspberry-nv8s6\").project(\"yeast_segmentation\")\n",
        "version = project.version(9)\n",
        "dataset = version.download(\"yolov5\")\n",
        "\n",
        "\n",
        "\n"
      ]
    },
    {
      "cell_type": "code",
      "execution_count": 71,
      "metadata": {
        "colab": {
          "base_uri": "https://localhost:8080/"
        },
        "id": "h01vv29pNuZU",
        "outputId": "0aaf813e-bba4-49db-8629-f5cc18fb99a9"
      },
      "outputs": [
        {
          "name": "stdout",
          "output_type": "stream",
          "text": [
            "# Define your dataset root directory\n",
            "path: ../CSIC_IARB/segmentation/segmentation/yolov5/yeast_segmentation-11 # Cambia esto a la ruta de tu dataset\n",
            "\n",
            "# Define your dataset split\n",
            "train: train  # Ruta a las imágenes de entrenamiento\n",
            "val: val      # Ruta a las imágenes de validación\n",
            "test: test    # Ruta a las imágenes de prueba (opcional)\n",
            "\n",
            "# Number of classes\n",
            "nc: 1  # Número de clases (en este caso, solo una clase: mask)\n",
            "\n",
            "# Class names\n",
            "names: [mask]\n",
            "\n"
          ]
        }
      ],
      "source": [
        "%cat {dataset.location}/coco.yaml"
      ]
    },
    {
      "cell_type": "markdown",
      "metadata": {
        "id": "zZwzVuLTtpoI"
      },
      "source": [
        "### Train On Custom Data 🎉\n",
        "Here, we use the `dataset.location` attribute to pass our dataset to the `--data` parameter.\n",
        "\n",
        "Note: we're training for 100 epochs here. We're also starting training from the pretrained weights. Larger datasets will likely benefit from longer training."
      ]
    },
    {
      "cell_type": "code",
      "execution_count": 4,
      "metadata": {
        "colab": {
          "base_uri": "https://localhost:8080/",
          "height": 1000
        },
        "id": "LSBVTWnAMU0k",
        "outputId": "7fa6a780-d7cc-4cdc-b9fa-c3bc39e5f87a"
      },
      "outputs": [
        {
          "name": "stdout",
          "output_type": "stream",
          "text": [
            "Thu Jul 18 13:09:04 2024       \n",
            "+-----------------------------------------------------------------------------------------+\n",
            "| NVIDIA-SMI 550.54.15              Driver Version: 550.54.15      CUDA Version: 12.4     |\n",
            "|-----------------------------------------+------------------------+----------------------+\n",
            "| GPU  Name                 Persistence-M | Bus-Id          Disp.A | Volatile Uncorr. ECC |\n",
            "| Fan  Temp   Perf          Pwr:Usage/Cap |           Memory-Usage | GPU-Util  Compute M. |\n",
            "|                                         |                        |               MIG M. |\n",
            "|=========================================+========================+======================|\n",
            "|   0  Quadro GV100                   Off |   00000000:65:00.0 Off |                  Off |\n",
            "| 29%   39C    P2             26W /  250W |    1029MiB /  32768MiB |      0%      Default |\n",
            "|                                         |                        |                  N/A |\n",
            "+-----------------------------------------+------------------------+----------------------+\n",
            "                                                                                         \n",
            "+-----------------------------------------------------------------------------------------+\n",
            "| Processes:                                                                              |\n",
            "|  GPU   GI   CI        PID   Type   Process name                              GPU Memory |\n",
            "|        ID   ID                                                               Usage      |\n",
            "|=========================================================================================|\n",
            "|    0   N/A  N/A      1972      G   /usr/lib/xorg/Xorg                              9MiB |\n",
            "|    0   N/A  N/A      2044      G   /usr/bin/gnome-shell                            7MiB |\n",
            "|    0   N/A  N/A   2566653      C   ...ar/anaconda3/envs/YOLOV8/bin/python       1008MiB |\n",
            "+-----------------------------------------------------------------------------------------+\n",
            "/home/araya/CSIC_IARB/segmentation/yolov5\n",
            "\u001b[34m\u001b[1msegment/train: \u001b[0mweights=yolov5s-seg.pt, cfg=, data=/home/araya/CSIC_IARB/segmentation/yolov5/yeast_segmentation-9/data.yaml, hyp=data/hyps/hyp.scratch-low.yaml, epochs=10, batch_size=-1, imgsz=640, rect=False, resume=False, nosave=False, noval=False, noautoanchor=False, noplots=False, evolve=None, bucket=, cache=None, image_weights=False, device=, multi_scale=False, single_cls=False, optimizer=SGD, sync_bn=False, workers=8, project=runs/train-seg, name=custom-dataset, exist_ok=False, quad=False, cos_lr=False, label_smoothing=0.0, patience=100, freeze=[0], save_period=-1, seed=0, local_rank=-1, mask_ratio=4, no_overlap=True\n",
            "\u001b[34m\u001b[1mgithub: \u001b[0m⚠️ YOLOv5 is out of date by 3 commits. Use 'git pull' or 'git clone https://github.com/ultralytics/yolov5' to update.\n",
            "YOLOv5 🚀 v7.0-342-g12be4996 Python-3.9.19 torch-2.3.1+cu121 CUDA:0 (Quadro GV100, 32492MiB)\n",
            "\n",
            "\u001b[34m\u001b[1mhyperparameters: \u001b[0mlr0=0.01, lrf=0.01, momentum=0.937, weight_decay=0.0005, warmup_epochs=3.0, warmup_momentum=0.8, warmup_bias_lr=0.1, box=0.05, cls=0.5, cls_pw=1.0, obj=1.0, obj_pw=1.0, iou_t=0.2, anchor_t=4.0, fl_gamma=0.0, hsv_h=0.015, hsv_s=0.7, hsv_v=0.4, degrees=0.0, translate=0.1, scale=0.5, shear=0.0, perspective=0.0, flipud=0.0, fliplr=0.5, mosaic=1.0, mixup=0.0, copy_paste=0.0\n",
            "\u001b[34m\u001b[1mTensorBoard: \u001b[0mStart with 'tensorboard --logdir runs/train-seg', view at http://localhost:6006/\n",
            "Overriding model.yaml nc=80 with nc=1\n",
            "\n",
            "                 from  n    params  module                                  arguments                     \n",
            "  0                -1  1      3520  models.common.Conv                      [3, 32, 6, 2, 2]              \n",
            "  1                -1  1     18560  models.common.Conv                      [32, 64, 3, 2]                \n",
            "  2                -1  1     18816  models.common.C3                        [64, 64, 1]                   \n",
            "  3                -1  1     73984  models.common.Conv                      [64, 128, 3, 2]               \n",
            "  4                -1  2    115712  models.common.C3                        [128, 128, 2]                 \n",
            "  5                -1  1    295424  models.common.Conv                      [128, 256, 3, 2]              \n",
            "  6                -1  3    625152  models.common.C3                        [256, 256, 3]                 \n",
            "  7                -1  1   1180672  models.common.Conv                      [256, 512, 3, 2]              \n",
            "  8                -1  1   1182720  models.common.C3                        [512, 512, 1]                 \n",
            "  9                -1  1    656896  models.common.SPPF                      [512, 512, 5]                 \n",
            " 10                -1  1    131584  models.common.Conv                      [512, 256, 1, 1]              \n",
            " 11                -1  1         0  torch.nn.modules.upsampling.Upsample    [None, 2, 'nearest']          \n",
            " 12           [-1, 6]  1         0  models.common.Concat                    [1]                           \n",
            " 13                -1  1    361984  models.common.C3                        [512, 256, 1, False]          \n",
            " 14                -1  1     33024  models.common.Conv                      [256, 128, 1, 1]              \n",
            " 15                -1  1         0  torch.nn.modules.upsampling.Upsample    [None, 2, 'nearest']          \n",
            " 16           [-1, 4]  1         0  models.common.Concat                    [1]                           \n",
            " 17                -1  1     90880  models.common.C3                        [256, 128, 1, False]          \n",
            " 18                -1  1    147712  models.common.Conv                      [128, 128, 3, 2]              \n",
            " 19          [-1, 14]  1         0  models.common.Concat                    [1]                           \n",
            " 20                -1  1    296448  models.common.C3                        [256, 256, 1, False]          \n",
            " 21                -1  1    590336  models.common.Conv                      [256, 256, 3, 2]              \n",
            " 22          [-1, 10]  1         0  models.common.Concat                    [1]                           \n",
            " 23                -1  1   1182720  models.common.C3                        [512, 512, 1, False]          \n",
            " 24      [17, 20, 23]  1    402070  models.yolo.Segment                     [1, [[10, 13, 16, 30, 33, 23], [30, 61, 62, 45, 59, 119], [116, 90, 156, 198, 373, 326]], 32, 128, [128, 256, 512]]\n",
            "Model summary: 225 layers, 7408214 parameters, 7408214 gradients, 25.9 GFLOPs\n",
            "\n",
            "Transferred 361/367 items from yolov5s-seg.pt\n",
            "\u001b[34m\u001b[1mAMP: \u001b[0mchecks passed ✅\n",
            "\u001b[34m\u001b[1mAutoBatch: \u001b[0mComputing optimal batch size for --imgsz 640\n",
            "\u001b[34m\u001b[1mAutoBatch: \u001b[0mCUDA:0 (Quadro GV100) 31.73G total, 0.35G reserved, 0.06G allocated, 31.32G free\n",
            "      Params      GFLOPs  GPU_mem (GB)  forward (ms) backward (ms)                   input                  output\n",
            "     7408214       25.91         0.648         15.83           nan        (1, 3, 640, 640)                    list\n",
            "     7408214       51.83         1.051         13.04           nan        (2, 3, 640, 640)                    list\n",
            "     7408214       103.7         1.837         13.85           nan        (4, 3, 640, 640)                    list\n",
            "     7408214       207.3         3.265         25.65           nan        (8, 3, 640, 640)                    list\n",
            "     7408214       414.6         6.602         44.93           nan       (16, 3, 640, 640)                    list\n",
            "\u001b[34m\u001b[1mAutoBatch: \u001b[0mUsing batch-size 62 for CUDA:0 25.12G/31.73G (79%) ✅\n",
            "\u001b[34m\u001b[1moptimizer:\u001b[0m SGD(lr=0.01) with parameter groups 60 weight(decay=0.0), 63 weight(decay=0.000484375), 63 bias\n",
            "\u001b[34m\u001b[1mtrain: \u001b[0mScanning /home/araya/CSIC_IARB/segmentation/yolov5/yeast_segmentation-9/t\u001b[0m\n",
            "\u001b[34m\u001b[1mval: \u001b[0mScanning /home/araya/CSIC_IARB/segmentation/yolov5/yeast_segmentation-9/val\u001b[0m\n",
            "\n",
            "\u001b[34m\u001b[1mAutoAnchor: \u001b[0m6.31 anchors/target, 0.992 Best Possible Recall (BPR). Current anchors are a good fit to dataset ✅\n",
            "Plotting labels to runs/train-seg/custom-dataset11/labels.jpg... \n",
            "Image sizes 640 train, 640 val\n",
            "Using 8 dataloader workers\n",
            "Logging results to \u001b[1mruns/train-seg/custom-dataset11\u001b[0m\n",
            "Starting training for 10 epochs...\n",
            "\n",
            "      Epoch    GPU_mem   box_loss   seg_loss   obj_loss   cls_loss  Instances       Size\n",
            "        0/9      17.1G     0.1311     0.2835    0.07249          0        210   \n",
            "                 Class     Images  Instances      Box(P          R      mAP50  m\n",
            "                   all         19        261     0.0313      0.268     0.0209    0.00419    0.00193     0.0421    0.00103   0.000384\n",
            "\n",
            "      Epoch    GPU_mem   box_loss   seg_loss   obj_loss   cls_loss  Instances       Size\n",
            "        1/9      17.1G     0.1302     0.2538     0.0644          0        130   \n",
            "                 Class     Images  Instances      Box(P          R      mAP50  m\n",
            "                   all         19        261    0.00982      0.215    0.00665    0.00154    0.00298     0.0651    0.00165   0.000459\n",
            "\n",
            "      Epoch    GPU_mem   box_loss   seg_loss   obj_loss   cls_loss  Instances       Size\n",
            "        2/9      17.1G     0.1265     0.1444    0.06927          0        160   \n",
            "                 Class     Images  Instances      Box(P          R      mAP50  m\n",
            "                   all         19        261    0.00544      0.119    0.00313    0.00069    0.00912      0.199    0.00566    0.00153\n",
            "\n",
            "      Epoch    GPU_mem   box_loss   seg_loss   obj_loss   cls_loss  Instances       Size\n",
            "        3/9      17.1G      0.119    0.07549    0.08102          0        154   \n",
            "                 Class     Images  Instances      Box(P          R      mAP50  m\n",
            "                   all         19        261     0.0181      0.395     0.0181    0.00513      0.044      0.333     0.0358     0.0167\n",
            "\n",
            "      Epoch    GPU_mem   box_loss   seg_loss   obj_loss   cls_loss  Instances       Size\n",
            "        4/9      17.1G      0.108    0.04353     0.0902          0        183   \n",
            "                 Class     Images  Instances      Box(P          R      mAP50  m\n",
            "                   all         19        261      0.361      0.307      0.273     0.0782      0.406      0.403       0.36      0.198\n",
            "\n",
            "      Epoch    GPU_mem   box_loss   seg_loss   obj_loss   cls_loss  Instances       Size\n",
            "        5/9      17.1G    0.09346    0.03539    0.08517          0        220   \n",
            "                 Class     Images  Instances      Box(P          R      mAP50  m\n",
            "                   all         19        261      0.176      0.326      0.143     0.0413      0.218      0.391      0.185     0.0906\n",
            "\n",
            "      Epoch    GPU_mem   box_loss   seg_loss   obj_loss   cls_loss  Instances       Size\n",
            "        6/9      17.1G    0.08198    0.03229    0.07438          0        176   \n",
            "                 Class     Images  Instances      Box(P          R      mAP50  m\n",
            "                   all         19        261      0.207      0.479      0.216      0.057      0.226      0.513      0.281      0.168\n",
            "\n",
            "      Epoch    GPU_mem   box_loss   seg_loss   obj_loss   cls_loss  Instances       Size\n",
            "        7/9      17.1G    0.07259    0.03192    0.07934          0        312   \n",
            "                 Class     Images  Instances      Box(P          R      mAP50  m\n",
            "                   all         19        261      0.384      0.651      0.529      0.141      0.419      0.678      0.631      0.363\n",
            "\n",
            "      Epoch    GPU_mem   box_loss   seg_loss   obj_loss   cls_loss  Instances       Size\n",
            "        8/9      17.1G    0.06701    0.02964    0.07242          0        220   \n",
            "                 Class     Images  Instances      Box(P          R      mAP50  m\n",
            "                   all         19        261      0.488      0.705      0.672      0.218      0.499       0.72      0.712      0.399\n",
            "\n",
            "      Epoch    GPU_mem   box_loss   seg_loss   obj_loss   cls_loss  Instances       Size\n",
            "        9/9      17.1G    0.06347    0.03087    0.07477          0        232   \n",
            "                 Class     Images  Instances      Box(P          R      mAP50  m\n",
            "                   all         19        261       0.32      0.705      0.406      0.108      0.418      0.713      0.662       0.38\n",
            "\n",
            "10 epochs completed in 0.017 hours.\n",
            "Optimizer stripped from runs/train-seg/custom-dataset11/weights/last.pt, 15.2MB\n",
            "Optimizer stripped from runs/train-seg/custom-dataset11/weights/best.pt, 15.2MB\n",
            "\n",
            "Validating runs/train-seg/custom-dataset11/weights/best.pt...\n",
            "Fusing layers... \n",
            "Model summary: 165 layers, 7398422 parameters, 0 gradients, 25.7 GFLOPs\n",
            "                 Class     Images  Instances      Box(P          R      mAP50  m\n",
            "                   all         19        261       0.49      0.705      0.675      0.219        0.5       0.72      0.712      0.399\n",
            "Results saved to \u001b[1mruns/train-seg/custom-dataset11\u001b[0m\n"
          ]
        },
        {
          "ename": "AttributeError",
          "evalue": "'function' object has no attribute 'Image'",
          "output_type": "error",
          "traceback": [
            "\u001b[0;31m---------------------------------------------------------------------------\u001b[0m",
            "\u001b[0;31mAttributeError\u001b[0m                            Traceback (most recent call last)",
            "Input \u001b[0;32mIn [4]\u001b[0m, in \u001b[0;36m<cell line: 9>\u001b[0;34m()\u001b[0m\n\u001b[1;32m      7\u001b[0m get_ipython()\u001b[38;5;241m.\u001b[39mrun_line_magic(\u001b[38;5;124m'\u001b[39m\u001b[38;5;124mcd\u001b[39m\u001b[38;5;124m'\u001b[39m, \u001b[38;5;124m'\u001b[39m\u001b[38;5;132;01m{HOME}\u001b[39;00m\u001b[38;5;124m/yolov5\u001b[39m\u001b[38;5;124m'\u001b[39m)\n\u001b[1;32m      8\u001b[0m get_ipython()\u001b[38;5;241m.\u001b[39msystem(\u001b[38;5;124m'\u001b[39m\u001b[38;5;124mpython segment/train.py --img 640 --batch -1 --epochs 10 --data \u001b[39m\u001b[38;5;132;01m{dataset.location}\u001b[39;00m\u001b[38;5;124m/data.yaml --weights yolov5s-seg.pt --name custom-dataset --no-overlap\u001b[39m\u001b[38;5;124m'\u001b[39m)\n\u001b[0;32m----> 9\u001b[0m \u001b[43mdisplay\u001b[49m\u001b[38;5;241;43m.\u001b[39;49m\u001b[43mImage\u001b[49m(filename\u001b[38;5;241m=\u001b[39m\u001b[38;5;124mf\u001b[39m\u001b[38;5;124m'\u001b[39m\u001b[38;5;132;01m{\u001b[39;00mHOME\u001b[38;5;132;01m}\u001b[39;00m\u001b[38;5;124m/yolov5/runs/train-seg/custom-dataset/results.png\u001b[39m\u001b[38;5;124m'\u001b[39m, width\u001b[38;5;241m=\u001b[39m\u001b[38;5;241m1200\u001b[39m)\n",
            "\u001b[0;31mAttributeError\u001b[0m: 'function' object has no attribute 'Image'"
          ]
        }
      ],
      "source": [
        "!nvidia-smi\n",
        "import torch\n",
        "\n",
        "torch.cuda.empty_cache()\n",
        "\n",
        "\n",
        "%cd {HOME}/yolov5\n",
        "!python segment/train.py --img 640 --batch -1 --epochs 10 --data {dataset.location}/data.yaml --weights yolov5s-seg.pt --name custom-dataset \n",
        "display.Image(filename=f'{HOME}/yolov5/runs/train-seg/custom-dataset/results.png', width=1200)"
      ]
    },
    {
      "cell_type": "markdown",
      "metadata": {
        "id": "gD8gmSaAtpoJ"
      },
      "source": [
        "Above we see training plots for our custom trained model. This plot along with other detailed results and sample predictions are all automatically generated and stored in the `runs` folder. See `runs/train-seg/exp`."
      ]
    },
    {
      "cell_type": "markdown",
      "metadata": {
        "id": "IZjIfCzftpoJ"
      },
      "source": [
        "### Validate Your Custom Model\n",
        "\n",
        "Repeat step 2 from above to test and validate your custom model."
      ]
    },
    {
      "cell_type": "code",
      "execution_count": 6,
      "metadata": {
        "colab": {
          "base_uri": "https://localhost:8080/"
        },
        "id": "Y6DFBei-tpoJ",
        "outputId": "d159e069-face-4bdb-a058-7d8d6b0ba2a3"
      },
      "outputs": [
        {
          "name": "stdout",
          "output_type": "stream",
          "text": [
            "/home/araya/CSIC_IARB/segmentation/segmentation/yolov5\n",
            "\u001b[34m\u001b[1msegment/val: \u001b[0mdata=/home/araya/CSIC_IARB/segmentation/segmentation/yolov5/yeast_segmentation-8/data.yaml, weights=['/home/araya/CSIC_IARB/segmentation/segmentation/yolov5/runs/train-seg/custom-dataset21/weights/best.pt'], batch_size=32, imgsz=320, conf_thres=0.001, iou_thres=0.6, max_det=300, task=val, device=, workers=8, single_cls=False, augment=False, verbose=False, save_txt=False, save_hybrid=False, save_conf=False, save_json=False, project=runs/val-seg, name=custom-dataset, exist_ok=False, half=False, dnn=False\n",
            "YOLOv5 🚀 v7.0-334-g100a423b Python-3.9.19 torch-2.3.1+cu121 CUDA:0 (Quadro GV100, 32492MiB)\n",
            "\n",
            "Fusing layers... \n",
            "Model summary: 165 layers, 7398422 parameters, 0 gradients, 25.7 GFLOPs\n",
            "\u001b[34m\u001b[1mval: \u001b[0mScanning /home/araya/CSIC_IARB/segmentation/segmentation/yolov5/yeast_segme\u001b[0m\n",
            "                 Class     Images  Instances      Box(P          R      mAP50  m\n",
            "                   all         19        212      0.356      0.472      0.373      0.103      0.364      0.514      0.439      0.268\n",
            "Speed: 0.2ms pre-process, 12.9ms inference, 16.1ms NMS per image at shape (32, 3, 320, 320)\n",
            "Results saved to \u001b[1mruns/val-seg/custom-dataset6\u001b[0m\n"
          ]
        }
      ],
      "source": [
        "%cd {HOME}/yolov5\n",
        "!python segment/val.py --weights {HOME}/yolov5/runs/train-seg/custom-dataset21/weights/best.pt --data {dataset.location}/data.yaml --img 320  --name custom-dataset"
      ]
    },
    {
      "cell_type": "markdown",
      "metadata": {
        "id": "v4SGEO0VtpoJ"
      },
      "source": [
        "### Infer With Your Custom Model"
      ]
    },
    {
      "cell_type": "code",
      "execution_count": 29,
      "metadata": {
        "colab": {
          "base_uri": "https://localhost:8080/",
          "height": 793
        },
        "id": "abjYoz8itpoJ",
        "outputId": "55152588-6326-44f8-cde8-45aa83832d9e"
      },
      "outputs": [
        {
          "name": "stdout",
          "output_type": "stream",
          "text": [
            "/home/araya/CSIC_IARB/segmentation/segmentation/yolov5\n"
          ]
        },
        {
          "name": "stderr",
          "output_type": "stream",
          "text": [
            "3302.33s - pydevd: Sending message related to process being replaced timed-out after 5 seconds\n"
          ]
        },
        {
          "name": "stdout",
          "output_type": "stream",
          "text": [
            "\u001b[34m\u001b[1msegment/predict: \u001b[0mweights=['/home/araya/CSIC_IARB/segmentation/segmentation/yolov5/runs/train-seg/custom-dataset18/weights/best.pt'], source=/home/araya/CSIC_IARB/segmentation/segmentation/yolov5/yeast_segmentation-4/test/images, data=data/coco128.yaml, imgsz=[640, 640], conf_thres=0.25, iou_thres=0.45, max_det=1000, device=, view_img=False, save_txt=False, save_conf=False, save_crop=False, nosave=False, classes=None, agnostic_nms=False, augment=False, visualize=False, update=False, project=runs/predict-seg, name=custom-dataset, exist_ok=False, line_thickness=3, hide_labels=False, hide_conf=False, half=False, dnn=False, vid_stride=1, retina_masks=False\n",
            "YOLOv5 🚀 v7.0-334-g100a423b Python-3.9.19 torch-2.3.1+cu121 CUDA:0 (Quadro GV100, 32492MiB)\n",
            "\n",
            "Fusing layers... \n",
            "Model summary: 165 layers, 7398422 parameters, 0 gradients, 25.7 GFLOPs\n",
            "image 1/9 /home/araya/CSIC_IARB/segmentation/segmentation/yolov5/yeast_segmentation-4/test/images/10_png.rf.0af28badb0d8a47973924ef5c702f309.jpg: 640x640 9 masks, 4.8ms\n",
            "image 2/9 /home/araya/CSIC_IARB/segmentation/segmentation/yolov5/yeast_segmentation-4/test/images/18_png.rf.1021056ed6511e916ac7cb136252c4f5.jpg: 640x640 14 masks, 4.9ms\n",
            "image 3/9 /home/araya/CSIC_IARB/segmentation/segmentation/yolov5/yeast_segmentation-4/test/images/22_png.rf.e371cc9e23edea1e190756363e55e56b.jpg: 640x640 6 masks, 7.0ms\n",
            "image 4/9 /home/araya/CSIC_IARB/segmentation/segmentation/yolov5/yeast_segmentation-4/test/images/34_png.rf.3eaa8e239f6ab4eb643a04c66d2e0d55.jpg: 640x640 6 masks, 4.9ms\n",
            "image 5/9 /home/araya/CSIC_IARB/segmentation/segmentation/yolov5/yeast_segmentation-4/test/images/42_png.rf.cc353cbb3d42f58f6ef713367567451e.jpg: 640x640 3 masks, 4.8ms\n",
            "image 6/9 /home/araya/CSIC_IARB/segmentation/segmentation/yolov5/yeast_segmentation-4/test/images/62_png.rf.43b5546d71271288cf5cb50b2f7b4ce8.jpg: 640x640 10 masks, 4.9ms\n",
            "image 7/9 /home/araya/CSIC_IARB/segmentation/segmentation/yolov5/yeast_segmentation-4/test/images/66_png.rf.2e87c5b211dab5069eec3c72b8263dd2.jpg: 640x640 5 masks, 5.1ms\n",
            "image 8/9 /home/araya/CSIC_IARB/segmentation/segmentation/yolov5/yeast_segmentation-4/test/images/6_png.rf.d046ddd69eb05fab063ae14d97077059.jpg: 640x640 10 masks, 4.8ms\n",
            "image 9/9 /home/araya/CSIC_IARB/segmentation/segmentation/yolov5/yeast_segmentation-4/test/images/96_png.rf.41636d82eb40073a6e3a5884e2ae525e.jpg: 640x640 9 masks, 4.8ms\n",
            "Speed: 0.3ms pre-process, 5.1ms inference, 13.6ms NMS per image at shape (1, 3, 640, 640)\n",
            "Results saved to \u001b[1mruns/predict-seg/custom-dataset\u001b[0m\n"
          ]
        },
        {
          "ename": "AttributeError",
          "evalue": "'function' object has no attribute 'Image'",
          "output_type": "error",
          "traceback": [
            "\u001b[0;31m---------------------------------------------------------------------------\u001b[0m",
            "\u001b[0;31mAttributeError\u001b[0m                            Traceback (most recent call last)",
            "Input \u001b[0;32mIn [29]\u001b[0m, in \u001b[0;36m<cell line: 12>\u001b[0;34m()\u001b[0m\n\u001b[1;32m     10\u001b[0m get_ipython()\u001b[38;5;241m.\u001b[39mrun_line_magic(\u001b[38;5;124m'\u001b[39m\u001b[38;5;124mcd\u001b[39m\u001b[38;5;124m'\u001b[39m, \u001b[38;5;124m'\u001b[39m\u001b[38;5;132;01m{HOME}\u001b[39;00m\u001b[38;5;124m/yolov5\u001b[39m\u001b[38;5;124m'\u001b[39m)\n\u001b[1;32m     11\u001b[0m get_ipython()\u001b[38;5;241m.\u001b[39msystem(\u001b[38;5;124m'\u001b[39m\u001b[38;5;124mpython segment/predict.py --img 640 --weights \u001b[39m\u001b[38;5;132;01m{HOME}\u001b[39;00m\u001b[38;5;124m/yolov5/runs/train-seg/custom-dataset18/weights/best.pt --source \u001b[39m\u001b[38;5;132;01m{HOME}\u001b[39;00m\u001b[38;5;124m/yolov5/yeast_segmentation-4/test/images --name custom-dataset\u001b[39m\u001b[38;5;124m'\u001b[39m)\n\u001b[0;32m---> 12\u001b[0m \u001b[43mdisplay\u001b[49m\u001b[38;5;241;43m.\u001b[39;49m\u001b[43mImage\u001b[49m(filename\u001b[38;5;241m=\u001b[39m\u001b[38;5;124mf\u001b[39m\u001b[38;5;124m\"\u001b[39m\u001b[38;5;132;01m{\u001b[39;00mHOME\u001b[38;5;132;01m}\u001b[39;00m\u001b[38;5;124m/yolov5/runs/predict-seg/custom-dataset/\u001b[39m\u001b[38;5;132;01m{\u001b[39;00mexample_image_name\u001b[38;5;132;01m}\u001b[39;00m\u001b[38;5;124m\"\u001b[39m, width\u001b[38;5;241m=\u001b[39m\u001b[38;5;241m600\u001b[39m)\n",
            "\u001b[0;31mAttributeError\u001b[0m: 'function' object has no attribute 'Image'"
          ]
        }
      ],
      "source": [
        "import os\n",
        "\n",
        "if os.path.exists(os.path.join(dataset.location, \"test\")):\n",
        "    split_path = os.path.join(dataset.location, \"test\", \"images\")\n",
        "else:\n",
        "    split_path = os.path.join(dataset.location, \"valid\", \"images\")\n",
        "example_image_name = os.listdir(split_path)[0]\n",
        "\n",
        "\n",
        "%cd {HOME}/yolov5\n",
        "!python segment/predict.py --img 640 --weights {HOME}/yolov5/runs/train-seg/custom-dataset18/weights/best.pt --source {HOME}/yolov5/yeast_segmentation-4/test/images --name custom-dataset\n",
        "display.Image(filename=f\"{HOME}/yolov5/runs/predict-seg/custom-dataset/{example_image_name}\", width=600)"
      ]
    },
    {
      "cell_type": "markdown",
      "metadata": {
        "id": "HIbCkxfPtpoJ"
      },
      "source": [
        "The image above shows the resulting prediction overlayed on the input image."
      ]
    },
    {
      "cell_type": "markdown",
      "metadata": {
        "id": "ird2cKXGtpoK"
      },
      "source": [
        "## (OPTIONAL) Improve Our Model with Active Learning\n",
        "\n",
        "Now that we've trained our model once, we will want to continue to improve its performance. Improvement is largely dependent on improving our dataset.\n",
        "\n",
        "We can programmatically upload example failure images back to our custom dataset based on conditions (like seeing an underrpresented class or a low confidence score) using the same `pip` package."
      ]
    },
    {
      "cell_type": "code",
      "execution_count": null,
      "metadata": {
        "id": "Jw-LVMEatpoK"
      },
      "outputs": [],
      "source": [
        "#Prepare Our Example Image Directory\n",
        "#To run on your own images, replace the directory on the line below with a\n",
        "#directory you provide (by uploading to the colab environment, for example)\n",
        "example_image_dir = \"../example_images\"\n",
        "\n",
        "#We are going to download example images from the web for the purposes of this\n",
        "#demo. These images are relevant to the ASL Poly dataset. Skip the rest of this\n",
        "#cell if you are providing your own example image directory.\n",
        "os.makedirs(example_image_dir, exist_ok=True)\n",
        "image_urls = [\n",
        "    \"https://i.imgur.com/rFsDnHC.jpg\",\n",
        "    \"https://i.imgur.com/aEcceXm.jpg\",\n",
        "    \"https://i.imgur.com/s4N63fx.jpg\",\n",
        "    ]\n",
        "\n",
        "for i, image_url in enumerate(image_urls):\n",
        "    response = requests.get(image_url)\n",
        "    response.raise_for_status()\n",
        "    with open(os.path.join(example_image_dir,f'example_{i}.jpg'), 'wb') as handler:\n",
        "        handler.write(response.content)"
      ]
    },
    {
      "cell_type": "code",
      "execution_count": null,
      "metadata": {
        "colab": {
          "base_uri": "https://localhost:8080/"
        },
        "id": "yq46nfIk8s7x",
        "outputId": "fba1e842-c91f-4e23-bac9-c904aea517ef"
      },
      "outputs": [
        {
          "name": "stdout",
          "output_type": "stream",
          "text": [
            "\u001b[34m\u001b[1msegment/predict: \u001b[0mweights=['runs/train-seg/exp/weights/best.pt'], source=../example_images, data=data/coco128.yaml, imgsz=[320, 320], conf_thres=0.25, iou_thres=0.45, max_det=1000, device=, view_img=False, save_txt=True, save_conf=True, save_crop=False, nosave=False, classes=None, agnostic_nms=False, augment=False, visualize=False, update=False, project=runs/predict-seg, name=exp, exist_ok=False, line_thickness=3, hide_labels=False, hide_conf=False, half=False, dnn=False, vid_stride=1, retina_masks=False\n",
            "YOLOv5 🚀 v6.2-149-g77dcf55 Python-3.7.14 torch-1.12.1+cu113 CUDA:0 (Tesla P100-PCIE-16GB, 16281MiB)\n",
            "\n",
            "Fusing layers... \n",
            "Model summary: 165 layers, 7465847 parameters, 0 gradients, 25.9 GFLOPs\n",
            "image 1/3 /content/example_images/example_0.jpg: 320x320 1 L, 1 Y, 8.2ms\n",
            "image 2/3 /content/example_images/example_1.jpg: 320x320 1 G, 1 I, 8.7ms\n",
            "image 3/3 /content/example_images/example_2.jpg: 320x320 1 H, 6.9ms\n",
            "Speed: 0.3ms pre-process, 8.0ms inference, 1.0ms NMS per image at shape (1, 3, 320, 320)\n",
            "Results saved to \u001b[1mruns/predict-seg/exp3\u001b[0m\n",
            "3 labels saved to runs/predict-seg/exp3/labels\n"
          ]
        }
      ],
      "source": [
        "#Infer On Directory\n",
        "!python segment/predict.py --img 320 --weights runs/train-seg/exp/weights/best.pt --source {example_image_dir} --save-txt --save-conf"
      ]
    },
    {
      "cell_type": "code",
      "execution_count": null,
      "metadata": {
        "colab": {
          "base_uri": "https://localhost:8080/"
        },
        "id": "im54PYtA-A_5",
        "outputId": "c9cf593d-4d7c-4fd9-ba03-bae2018667ae"
      },
      "outputs": [
        {
          "name": "stdout",
          "output_type": "stream",
          "text": [
            "Image has a low confidence prediction, uploading to project: example_0.jpg\n",
            "Image has a low confidence prediction, uploading to project: example_1.jpg\n",
            "Image has a low confidence prediction, uploading to project: example_2.jpg\n"
          ]
        }
      ],
      "source": [
        "#Read Results Files and Conditionally Upload\n",
        "\n",
        "#If my model has a confidence of less than 80% for a prediction, let's help it\n",
        "#out by uploading this image back to our dataset. Then we can add a ground truth\n",
        "#label to it so that it will be included in our next training run and future\n",
        "#prediction results will improve.\n",
        "MIN_CONF_THRESHOLD = 0.8\n",
        "\n",
        "for i,txt_file in enumerate(os.listdir(\"runs/predict-seg/exp3/labels\")):\n",
        "  with open(os.path.join(\"runs/predict-seg/exp3/labels\",txt_file), 'r') as fid:\n",
        "    for line in fid:\n",
        "      label, x1, y1, x2, y2, conf = line.split(\" \")\n",
        "      conf = float(conf)\n",
        "      if conf < MIN_CONF_THRESHOLD:\n",
        "        print(f\"Image has a low confidence prediction, uploading to project: example_{i}.jpg\")\n",
        "        #Upload via Roboflow pip package\n",
        "        project.upload(os.path.join(example_image_dir,f'example_{i}.jpg'))\n",
        "        break"
      ]
    }
  ],
  "metadata": {
    "accelerator": "GPU",
    "colab": {
      "provenance": []
    },
    "gpuClass": "standard",
    "kernelspec": {
      "display_name": "ultralytics-env",
      "language": "python",
      "name": "python3"
    },
    "language_info": {
      "codemirror_mode": {
        "name": "ipython",
        "version": 3
      },
      "file_extension": ".py",
      "mimetype": "text/x-python",
      "name": "python",
      "nbconvert_exporter": "python",
      "pygments_lexer": "ipython3",
      "version": "3.9.19"
    },
    "widgets": {
      "application/vnd.jupyter.widget-state+json": {
        "009934aed23440028f204e660387ba9a": {
          "model_module": "@jupyter-widgets/controls",
          "model_module_version": "1.5.0",
          "model_name": "ProgressStyleModel",
          "state": {
            "_model_module": "@jupyter-widgets/controls",
            "_model_module_version": "1.5.0",
            "_model_name": "ProgressStyleModel",
            "_view_count": null,
            "_view_module": "@jupyter-widgets/base",
            "_view_module_version": "1.2.0",
            "_view_name": "StyleView",
            "bar_color": null,
            "description_width": ""
          }
        },
        "04465b6bb4094f27b4b8b02939b0525b": {
          "model_module": "@jupyter-widgets/controls",
          "model_module_version": "1.5.0",
          "model_name": "HBoxModel",
          "state": {
            "_dom_classes": [],
            "_model_module": "@jupyter-widgets/controls",
            "_model_module_version": "1.5.0",
            "_model_name": "HBoxModel",
            "_view_count": null,
            "_view_module": "@jupyter-widgets/controls",
            "_view_module_version": "1.5.0",
            "_view_name": "HBoxView",
            "box_style": "",
            "children": [
              "IPY_MODEL_ed3649aed0db4215b93167305c4415aa",
              "IPY_MODEL_8d37985bcaae4dbe883e04a08b10dba1",
              "IPY_MODEL_288371c279984f3ca3da1f6faedb5759"
            ],
            "layout": "IPY_MODEL_4f685d9a22c8497b89215c3cb76b022b"
          }
        },
        "06d2c07c23614320a5cb67e3ebe87cb3": {
          "model_module": "@jupyter-widgets/controls",
          "model_module_version": "1.5.0",
          "model_name": "HTMLModel",
          "state": {
            "_dom_classes": [],
            "_model_module": "@jupyter-widgets/controls",
            "_model_module_version": "1.5.0",
            "_model_name": "HTMLModel",
            "_view_count": null,
            "_view_module": "@jupyter-widgets/controls",
            "_view_module_version": "1.5.0",
            "_view_name": "HTMLView",
            "description": "",
            "description_tooltip": null,
            "layout": "IPY_MODEL_b1d4ad44c88647bb8ad351dcf4903e34",
            "placeholder": "​",
            "style": "IPY_MODEL_30e9cf9e3b6a4b84a35c52d7b10a14a9",
            "value": " 91.9M/91.9M [00:02&lt;00:00, 32.7MB/s]"
          }
        },
        "0ae8a38c04ae466cbaea5b3419dcc6f8": {
          "model_module": "@jupyter-widgets/controls",
          "model_module_version": "1.5.0",
          "model_name": "HTMLModel",
          "state": {
            "_dom_classes": [],
            "_model_module": "@jupyter-widgets/controls",
            "_model_module_version": "1.5.0",
            "_model_name": "HTMLModel",
            "_view_count": null,
            "_view_module": "@jupyter-widgets/controls",
            "_view_module_version": "1.5.0",
            "_view_name": "HTMLView",
            "description": "",
            "description_tooltip": null,
            "layout": "IPY_MODEL_2bfa5dce91bc4820aedb20241e394bfe",
            "placeholder": "​",
            "style": "IPY_MODEL_157bc244ee834b83a25e1dbbda51bb41",
            "value": " 6.79M/6.79M [00:00&lt;00:00, 25.1MB/s]"
          }
        },
        "10d07f5dabf14a9991e3e49170fbde0a": {
          "model_module": "@jupyter-widgets/controls",
          "model_module_version": "1.5.0",
          "model_name": "HBoxModel",
          "state": {
            "_dom_classes": [],
            "_model_module": "@jupyter-widgets/controls",
            "_model_module_version": "1.5.0",
            "_model_name": "HBoxModel",
            "_view_count": null,
            "_view_module": "@jupyter-widgets/controls",
            "_view_module_version": "1.5.0",
            "_view_name": "HBoxView",
            "box_style": "",
            "children": [
              "IPY_MODEL_98cd63f022d74efba2a8f6bcd72243c8",
              "IPY_MODEL_e70b212dd6a9471a8dabf23bb5f4e233",
              "IPY_MODEL_b0516e05f0064e8e84148208eca159ae"
            ],
            "layout": "IPY_MODEL_9999a69afeb54af08a1d01095e0b0fb5"
          }
        },
        "15191f4aecb043f692baffe88b5e4fb1": {
          "model_module": "@jupyter-widgets/controls",
          "model_module_version": "1.5.0",
          "model_name": "DescriptionStyleModel",
          "state": {
            "_model_module": "@jupyter-widgets/controls",
            "_model_module_version": "1.5.0",
            "_model_name": "DescriptionStyleModel",
            "_view_count": null,
            "_view_module": "@jupyter-widgets/base",
            "_view_module_version": "1.2.0",
            "_view_name": "StyleView",
            "description_width": ""
          }
        },
        "157bc244ee834b83a25e1dbbda51bb41": {
          "model_module": "@jupyter-widgets/controls",
          "model_module_version": "1.5.0",
          "model_name": "DescriptionStyleModel",
          "state": {
            "_model_module": "@jupyter-widgets/controls",
            "_model_module_version": "1.5.0",
            "_model_name": "DescriptionStyleModel",
            "_view_count": null,
            "_view_module": "@jupyter-widgets/base",
            "_view_module_version": "1.2.0",
            "_view_name": "StyleView",
            "description_width": ""
          }
        },
        "1647655d03fc402792c1cf5c25c08c93": {
          "model_module": "@jupyter-widgets/controls",
          "model_module_version": "1.5.0",
          "model_name": "HTMLModel",
          "state": {
            "_dom_classes": [],
            "_model_module": "@jupyter-widgets/controls",
            "_model_module_version": "1.5.0",
            "_model_name": "HTMLModel",
            "_view_count": null,
            "_view_module": "@jupyter-widgets/controls",
            "_view_module_version": "1.5.0",
            "_view_name": "HTMLView",
            "description": "",
            "description_tooltip": null,
            "layout": "IPY_MODEL_da8bc2d58eb54517b3ded682955a1757",
            "placeholder": "​",
            "style": "IPY_MODEL_a51711406cf643cd9e1d49f89f81fcdc",
            "value": " 170M/170M [00:03&lt;00:00, 50.4MB/s]"
          }
        },
        "288371c279984f3ca3da1f6faedb5759": {
          "model_module": "@jupyter-widgets/controls",
          "model_module_version": "1.5.0",
          "model_name": "HTMLModel",
          "state": {
            "_dom_classes": [],
            "_model_module": "@jupyter-widgets/controls",
            "_model_module_version": "1.5.0",
            "_model_name": "HTMLModel",
            "_view_count": null,
            "_view_module": "@jupyter-widgets/controls",
            "_view_module_version": "1.5.0",
            "_view_name": "HTMLView",
            "description": "",
            "description_tooltip": null,
            "layout": "IPY_MODEL_ef917512acea4bed835df94e695b6169",
            "placeholder": "​",
            "style": "IPY_MODEL_3c76ed721e4b4a1c89c9ac6d3aab1ad5",
            "value": " 42.4M/42.4M [00:00&lt;00:00, 64.9MB/s]"
          }
        },
        "2bfa5dce91bc4820aedb20241e394bfe": {
          "model_module": "@jupyter-widgets/base",
          "model_module_version": "1.2.0",
          "model_name": "LayoutModel",
          "state": {
            "_model_module": "@jupyter-widgets/base",
            "_model_module_version": "1.2.0",
            "_model_name": "LayoutModel",
            "_view_count": null,
            "_view_module": "@jupyter-widgets/base",
            "_view_module_version": "1.2.0",
            "_view_name": "LayoutView",
            "align_content": null,
            "align_items": null,
            "align_self": null,
            "border": null,
            "bottom": null,
            "display": null,
            "flex": null,
            "flex_flow": null,
            "grid_area": null,
            "grid_auto_columns": null,
            "grid_auto_flow": null,
            "grid_auto_rows": null,
            "grid_column": null,
            "grid_gap": null,
            "grid_row": null,
            "grid_template_areas": null,
            "grid_template_columns": null,
            "grid_template_rows": null,
            "height": null,
            "justify_content": null,
            "justify_items": null,
            "left": null,
            "margin": null,
            "max_height": null,
            "max_width": null,
            "min_height": null,
            "min_width": null,
            "object_fit": null,
            "object_position": null,
            "order": null,
            "overflow": null,
            "overflow_x": null,
            "overflow_y": null,
            "padding": null,
            "right": null,
            "top": null,
            "visibility": null,
            "width": null
          }
        },
        "2fc330dd3c7f4295b69d04f388279559": {
          "model_module": "@jupyter-widgets/controls",
          "model_module_version": "1.5.0",
          "model_name": "DescriptionStyleModel",
          "state": {
            "_model_module": "@jupyter-widgets/controls",
            "_model_module_version": "1.5.0",
            "_model_name": "DescriptionStyleModel",
            "_view_count": null,
            "_view_module": "@jupyter-widgets/base",
            "_view_module_version": "1.2.0",
            "_view_name": "StyleView",
            "description_width": ""
          }
        },
        "30e9cf9e3b6a4b84a35c52d7b10a14a9": {
          "model_module": "@jupyter-widgets/controls",
          "model_module_version": "1.5.0",
          "model_name": "DescriptionStyleModel",
          "state": {
            "_model_module": "@jupyter-widgets/controls",
            "_model_module_version": "1.5.0",
            "_model_name": "DescriptionStyleModel",
            "_view_count": null,
            "_view_module": "@jupyter-widgets/base",
            "_view_module_version": "1.2.0",
            "_view_name": "StyleView",
            "description_width": ""
          }
        },
        "3c76ed721e4b4a1c89c9ac6d3aab1ad5": {
          "model_module": "@jupyter-widgets/controls",
          "model_module_version": "1.5.0",
          "model_name": "DescriptionStyleModel",
          "state": {
            "_model_module": "@jupyter-widgets/controls",
            "_model_module_version": "1.5.0",
            "_model_name": "DescriptionStyleModel",
            "_view_count": null,
            "_view_module": "@jupyter-widgets/base",
            "_view_module_version": "1.2.0",
            "_view_name": "StyleView",
            "description_width": ""
          }
        },
        "4b2dc714c37644a4885c9dfeed0300e9": {
          "model_module": "@jupyter-widgets/controls",
          "model_module_version": "1.5.0",
          "model_name": "ProgressStyleModel",
          "state": {
            "_model_module": "@jupyter-widgets/controls",
            "_model_module_version": "1.5.0",
            "_model_name": "ProgressStyleModel",
            "_view_count": null,
            "_view_module": "@jupyter-widgets/base",
            "_view_module_version": "1.2.0",
            "_view_name": "StyleView",
            "bar_color": null,
            "description_width": ""
          }
        },
        "4f685d9a22c8497b89215c3cb76b022b": {
          "model_module": "@jupyter-widgets/base",
          "model_module_version": "1.2.0",
          "model_name": "LayoutModel",
          "state": {
            "_model_module": "@jupyter-widgets/base",
            "_model_module_version": "1.2.0",
            "_model_name": "LayoutModel",
            "_view_count": null,
            "_view_module": "@jupyter-widgets/base",
            "_view_module_version": "1.2.0",
            "_view_name": "LayoutView",
            "align_content": null,
            "align_items": null,
            "align_self": null,
            "border": null,
            "bottom": null,
            "display": null,
            "flex": null,
            "flex_flow": null,
            "grid_area": null,
            "grid_auto_columns": null,
            "grid_auto_flow": null,
            "grid_auto_rows": null,
            "grid_column": null,
            "grid_gap": null,
            "grid_row": null,
            "grid_template_areas": null,
            "grid_template_columns": null,
            "grid_template_rows": null,
            "height": null,
            "justify_content": null,
            "justify_items": null,
            "left": null,
            "margin": null,
            "max_height": null,
            "max_width": null,
            "min_height": null,
            "min_width": null,
            "object_fit": null,
            "object_position": null,
            "order": null,
            "overflow": null,
            "overflow_x": null,
            "overflow_y": null,
            "padding": null,
            "right": null,
            "top": null,
            "visibility": null,
            "width": null
          }
        },
        "524a0a2883574902b66800eab0e64e11": {
          "model_module": "@jupyter-widgets/base",
          "model_module_version": "1.2.0",
          "model_name": "LayoutModel",
          "state": {
            "_model_module": "@jupyter-widgets/base",
            "_model_module_version": "1.2.0",
            "_model_name": "LayoutModel",
            "_view_count": null,
            "_view_module": "@jupyter-widgets/base",
            "_view_module_version": "1.2.0",
            "_view_name": "LayoutView",
            "align_content": null,
            "align_items": null,
            "align_self": null,
            "border": null,
            "bottom": null,
            "display": null,
            "flex": null,
            "flex_flow": null,
            "grid_area": null,
            "grid_auto_columns": null,
            "grid_auto_flow": null,
            "grid_auto_rows": null,
            "grid_column": null,
            "grid_gap": null,
            "grid_row": null,
            "grid_template_areas": null,
            "grid_template_columns": null,
            "grid_template_rows": null,
            "height": null,
            "justify_content": null,
            "justify_items": null,
            "left": null,
            "margin": null,
            "max_height": null,
            "max_width": null,
            "min_height": null,
            "min_width": null,
            "object_fit": null,
            "object_position": null,
            "order": null,
            "overflow": null,
            "overflow_x": null,
            "overflow_y": null,
            "padding": null,
            "right": null,
            "top": null,
            "visibility": null,
            "width": null
          }
        },
        "53375459522b4a84933f0635fb5f37ff": {
          "model_module": "@jupyter-widgets/controls",
          "model_module_version": "1.5.0",
          "model_name": "HTMLModel",
          "state": {
            "_dom_classes": [],
            "_model_module": "@jupyter-widgets/controls",
            "_model_module_version": "1.5.0",
            "_model_name": "HTMLModel",
            "_view_count": null,
            "_view_module": "@jupyter-widgets/controls",
            "_view_module_version": "1.5.0",
            "_view_name": "HTMLView",
            "description": "",
            "description_tooltip": null,
            "layout": "IPY_MODEL_b031955367b444069419cd9935917de8",
            "placeholder": "​",
            "style": "IPY_MODEL_702668c18569441b8b58b2f372aee2bc",
            "value": "100%"
          }
        },
        "5b3140d9d3404ccda7f101027f8aed7b": {
          "model_module": "@jupyter-widgets/controls",
          "model_module_version": "1.5.0",
          "model_name": "HBoxModel",
          "state": {
            "_dom_classes": [],
            "_model_module": "@jupyter-widgets/controls",
            "_model_module_version": "1.5.0",
            "_model_name": "HBoxModel",
            "_view_count": null,
            "_view_module": "@jupyter-widgets/controls",
            "_view_module_version": "1.5.0",
            "_view_name": "HBoxView",
            "box_style": "",
            "children": [
              "IPY_MODEL_cb5d5ff2742d44cc84d23c94432f3e50",
              "IPY_MODEL_e913ef94646442e9b51717a1f5ba1da7",
              "IPY_MODEL_0ae8a38c04ae466cbaea5b3419dcc6f8"
            ],
            "layout": "IPY_MODEL_d5f9932399b84a229b40ca030aa12852"
          }
        },
        "619231d2e8b74e6e8ec312c2a81f27e9": {
          "model_module": "@jupyter-widgets/controls",
          "model_module_version": "1.5.0",
          "model_name": "ProgressStyleModel",
          "state": {
            "_model_module": "@jupyter-widgets/controls",
            "_model_module_version": "1.5.0",
            "_model_name": "ProgressStyleModel",
            "_view_count": null,
            "_view_module": "@jupyter-widgets/base",
            "_view_module_version": "1.2.0",
            "_view_name": "StyleView",
            "bar_color": null,
            "description_width": ""
          }
        },
        "62aa270cd33f4a23ba286194a08ce058": {
          "model_module": "@jupyter-widgets/controls",
          "model_module_version": "1.5.0",
          "model_name": "DescriptionStyleModel",
          "state": {
            "_model_module": "@jupyter-widgets/controls",
            "_model_module_version": "1.5.0",
            "_model_name": "DescriptionStyleModel",
            "_view_count": null,
            "_view_module": "@jupyter-widgets/base",
            "_view_module_version": "1.2.0",
            "_view_name": "StyleView",
            "description_width": ""
          }
        },
        "6abd641cfffe4b5f9ce282aedf002275": {
          "model_module": "@jupyter-widgets/base",
          "model_module_version": "1.2.0",
          "model_name": "LayoutModel",
          "state": {
            "_model_module": "@jupyter-widgets/base",
            "_model_module_version": "1.2.0",
            "_model_name": "LayoutModel",
            "_view_count": null,
            "_view_module": "@jupyter-widgets/base",
            "_view_module_version": "1.2.0",
            "_view_name": "LayoutView",
            "align_content": null,
            "align_items": null,
            "align_self": null,
            "border": null,
            "bottom": null,
            "display": null,
            "flex": null,
            "flex_flow": null,
            "grid_area": null,
            "grid_auto_columns": null,
            "grid_auto_flow": null,
            "grid_auto_rows": null,
            "grid_column": null,
            "grid_gap": null,
            "grid_row": null,
            "grid_template_areas": null,
            "grid_template_columns": null,
            "grid_template_rows": null,
            "height": null,
            "justify_content": null,
            "justify_items": null,
            "left": null,
            "margin": null,
            "max_height": null,
            "max_width": null,
            "min_height": null,
            "min_width": null,
            "object_fit": null,
            "object_position": null,
            "order": null,
            "overflow": null,
            "overflow_x": null,
            "overflow_y": null,
            "padding": null,
            "right": null,
            "top": null,
            "visibility": null,
            "width": null
          }
        },
        "6c1f41d3199743b18d91950777bdcb3f": {
          "model_module": "@jupyter-widgets/controls",
          "model_module_version": "1.5.0",
          "model_name": "ProgressStyleModel",
          "state": {
            "_model_module": "@jupyter-widgets/controls",
            "_model_module_version": "1.5.0",
            "_model_name": "ProgressStyleModel",
            "_view_count": null,
            "_view_module": "@jupyter-widgets/base",
            "_view_module_version": "1.2.0",
            "_view_name": "StyleView",
            "bar_color": null,
            "description_width": ""
          }
        },
        "702668c18569441b8b58b2f372aee2bc": {
          "model_module": "@jupyter-widgets/controls",
          "model_module_version": "1.5.0",
          "model_name": "DescriptionStyleModel",
          "state": {
            "_model_module": "@jupyter-widgets/controls",
            "_model_module_version": "1.5.0",
            "_model_name": "DescriptionStyleModel",
            "_view_count": null,
            "_view_module": "@jupyter-widgets/base",
            "_view_module_version": "1.2.0",
            "_view_name": "StyleView",
            "description_width": ""
          }
        },
        "7159a0665d7d40dd9edf8afb1d15bdb2": {
          "model_module": "@jupyter-widgets/base",
          "model_module_version": "1.2.0",
          "model_name": "LayoutModel",
          "state": {
            "_model_module": "@jupyter-widgets/base",
            "_model_module_version": "1.2.0",
            "_model_name": "LayoutModel",
            "_view_count": null,
            "_view_module": "@jupyter-widgets/base",
            "_view_module_version": "1.2.0",
            "_view_name": "LayoutView",
            "align_content": null,
            "align_items": null,
            "align_self": null,
            "border": null,
            "bottom": null,
            "display": null,
            "flex": null,
            "flex_flow": null,
            "grid_area": null,
            "grid_auto_columns": null,
            "grid_auto_flow": null,
            "grid_auto_rows": null,
            "grid_column": null,
            "grid_gap": null,
            "grid_row": null,
            "grid_template_areas": null,
            "grid_template_columns": null,
            "grid_template_rows": null,
            "height": null,
            "justify_content": null,
            "justify_items": null,
            "left": null,
            "margin": null,
            "max_height": null,
            "max_width": null,
            "min_height": null,
            "min_width": null,
            "object_fit": null,
            "object_position": null,
            "order": null,
            "overflow": null,
            "overflow_x": null,
            "overflow_y": null,
            "padding": null,
            "right": null,
            "top": null,
            "visibility": null,
            "width": null
          }
        },
        "7442dfb015fd4fb58aeaa4ec5253fde0": {
          "model_module": "@jupyter-widgets/base",
          "model_module_version": "1.2.0",
          "model_name": "LayoutModel",
          "state": {
            "_model_module": "@jupyter-widgets/base",
            "_model_module_version": "1.2.0",
            "_model_name": "LayoutModel",
            "_view_count": null,
            "_view_module": "@jupyter-widgets/base",
            "_view_module_version": "1.2.0",
            "_view_name": "LayoutView",
            "align_content": null,
            "align_items": null,
            "align_self": null,
            "border": null,
            "bottom": null,
            "display": null,
            "flex": null,
            "flex_flow": null,
            "grid_area": null,
            "grid_auto_columns": null,
            "grid_auto_flow": null,
            "grid_auto_rows": null,
            "grid_column": null,
            "grid_gap": null,
            "grid_row": null,
            "grid_template_areas": null,
            "grid_template_columns": null,
            "grid_template_rows": null,
            "height": null,
            "justify_content": null,
            "justify_items": null,
            "left": null,
            "margin": null,
            "max_height": null,
            "max_width": null,
            "min_height": null,
            "min_width": null,
            "object_fit": null,
            "object_position": null,
            "order": null,
            "overflow": null,
            "overflow_x": null,
            "overflow_y": null,
            "padding": null,
            "right": null,
            "top": null,
            "visibility": null,
            "width": null
          }
        },
        "7573e2b0939c49a9a1322e49b37a5327": {
          "model_module": "@jupyter-widgets/base",
          "model_module_version": "1.2.0",
          "model_name": "LayoutModel",
          "state": {
            "_model_module": "@jupyter-widgets/base",
            "_model_module_version": "1.2.0",
            "_model_name": "LayoutModel",
            "_view_count": null,
            "_view_module": "@jupyter-widgets/base",
            "_view_module_version": "1.2.0",
            "_view_name": "LayoutView",
            "align_content": null,
            "align_items": null,
            "align_self": null,
            "border": null,
            "bottom": null,
            "display": null,
            "flex": null,
            "flex_flow": null,
            "grid_area": null,
            "grid_auto_columns": null,
            "grid_auto_flow": null,
            "grid_auto_rows": null,
            "grid_column": null,
            "grid_gap": null,
            "grid_row": null,
            "grid_template_areas": null,
            "grid_template_columns": null,
            "grid_template_rows": null,
            "height": null,
            "justify_content": null,
            "justify_items": null,
            "left": null,
            "margin": null,
            "max_height": null,
            "max_width": null,
            "min_height": null,
            "min_width": null,
            "object_fit": null,
            "object_position": null,
            "order": null,
            "overflow": null,
            "overflow_x": null,
            "overflow_y": null,
            "padding": null,
            "right": null,
            "top": null,
            "visibility": null,
            "width": null
          }
        },
        "75992a102abf4923a9fca346d3b595ed": {
          "model_module": "@jupyter-widgets/controls",
          "model_module_version": "1.5.0",
          "model_name": "HBoxModel",
          "state": {
            "_dom_classes": [],
            "_model_module": "@jupyter-widgets/controls",
            "_model_module_version": "1.5.0",
            "_model_name": "HBoxModel",
            "_view_count": null,
            "_view_module": "@jupyter-widgets/controls",
            "_view_module_version": "1.5.0",
            "_view_name": "HBoxView",
            "box_style": "",
            "children": [
              "IPY_MODEL_53375459522b4a84933f0635fb5f37ff",
              "IPY_MODEL_b8bccf925c9b4bb8bbd14de7a1bf9b3c",
              "IPY_MODEL_e196473d96e64382a8833616b8efbf94"
            ],
            "layout": "IPY_MODEL_a571de8046a44c80bb404e78aebef18f"
          }
        },
        "7e3fec6b1c6044319e2ba04601508305": {
          "model_module": "@jupyter-widgets/base",
          "model_module_version": "1.2.0",
          "model_name": "LayoutModel",
          "state": {
            "_model_module": "@jupyter-widgets/base",
            "_model_module_version": "1.2.0",
            "_model_name": "LayoutModel",
            "_view_count": null,
            "_view_module": "@jupyter-widgets/base",
            "_view_module_version": "1.2.0",
            "_view_name": "LayoutView",
            "align_content": null,
            "align_items": null,
            "align_self": null,
            "border": null,
            "bottom": null,
            "display": null,
            "flex": null,
            "flex_flow": null,
            "grid_area": null,
            "grid_auto_columns": null,
            "grid_auto_flow": null,
            "grid_auto_rows": null,
            "grid_column": null,
            "grid_gap": null,
            "grid_row": null,
            "grid_template_areas": null,
            "grid_template_columns": null,
            "grid_template_rows": null,
            "height": null,
            "justify_content": null,
            "justify_items": null,
            "left": null,
            "margin": null,
            "max_height": null,
            "max_width": null,
            "min_height": null,
            "min_width": null,
            "object_fit": null,
            "object_position": null,
            "order": null,
            "overflow": null,
            "overflow_x": null,
            "overflow_y": null,
            "padding": null,
            "right": null,
            "top": null,
            "visibility": null,
            "width": null
          }
        },
        "7fd89ee65a2840739c9593a0b87c0306": {
          "model_module": "@jupyter-widgets/base",
          "model_module_version": "1.2.0",
          "model_name": "LayoutModel",
          "state": {
            "_model_module": "@jupyter-widgets/base",
            "_model_module_version": "1.2.0",
            "_model_name": "LayoutModel",
            "_view_count": null,
            "_view_module": "@jupyter-widgets/base",
            "_view_module_version": "1.2.0",
            "_view_name": "LayoutView",
            "align_content": null,
            "align_items": null,
            "align_self": null,
            "border": null,
            "bottom": null,
            "display": null,
            "flex": null,
            "flex_flow": null,
            "grid_area": null,
            "grid_auto_columns": null,
            "grid_auto_flow": null,
            "grid_auto_rows": null,
            "grid_column": null,
            "grid_gap": null,
            "grid_row": null,
            "grid_template_areas": null,
            "grid_template_columns": null,
            "grid_template_rows": null,
            "height": null,
            "justify_content": null,
            "justify_items": null,
            "left": null,
            "margin": null,
            "max_height": null,
            "max_width": null,
            "min_height": null,
            "min_width": null,
            "object_fit": null,
            "object_position": null,
            "order": null,
            "overflow": null,
            "overflow_x": null,
            "overflow_y": null,
            "padding": null,
            "right": null,
            "top": null,
            "visibility": null,
            "width": null
          }
        },
        "8d37985bcaae4dbe883e04a08b10dba1": {
          "model_module": "@jupyter-widgets/controls",
          "model_module_version": "1.5.0",
          "model_name": "FloatProgressModel",
          "state": {
            "_dom_classes": [],
            "_model_module": "@jupyter-widgets/controls",
            "_model_module_version": "1.5.0",
            "_model_name": "FloatProgressModel",
            "_view_count": null,
            "_view_module": "@jupyter-widgets/controls",
            "_view_module_version": "1.5.0",
            "_view_name": "ProgressView",
            "bar_style": "success",
            "description": "",
            "description_tooltip": null,
            "layout": "IPY_MODEL_8d95139848ed41cc83f5a1bd8d5c1699",
            "max": 44421129,
            "min": 0,
            "orientation": "horizontal",
            "style": "IPY_MODEL_f478fdecbde6486486117df31ec64030",
            "value": 44421129
          }
        },
        "8d95139848ed41cc83f5a1bd8d5c1699": {
          "model_module": "@jupyter-widgets/base",
          "model_module_version": "1.2.0",
          "model_name": "LayoutModel",
          "state": {
            "_model_module": "@jupyter-widgets/base",
            "_model_module_version": "1.2.0",
            "_model_name": "LayoutModel",
            "_view_count": null,
            "_view_module": "@jupyter-widgets/base",
            "_view_module_version": "1.2.0",
            "_view_name": "LayoutView",
            "align_content": null,
            "align_items": null,
            "align_self": null,
            "border": null,
            "bottom": null,
            "display": null,
            "flex": null,
            "flex_flow": null,
            "grid_area": null,
            "grid_auto_columns": null,
            "grid_auto_flow": null,
            "grid_auto_rows": null,
            "grid_column": null,
            "grid_gap": null,
            "grid_row": null,
            "grid_template_areas": null,
            "grid_template_columns": null,
            "grid_template_rows": null,
            "height": null,
            "justify_content": null,
            "justify_items": null,
            "left": null,
            "margin": null,
            "max_height": null,
            "max_width": null,
            "min_height": null,
            "min_width": null,
            "object_fit": null,
            "object_position": null,
            "order": null,
            "overflow": null,
            "overflow_x": null,
            "overflow_y": null,
            "padding": null,
            "right": null,
            "top": null,
            "visibility": null,
            "width": null
          }
        },
        "924e8f677ec34b84a28121e9d3d3e374": {
          "model_module": "@jupyter-widgets/base",
          "model_module_version": "1.2.0",
          "model_name": "LayoutModel",
          "state": {
            "_model_module": "@jupyter-widgets/base",
            "_model_module_version": "1.2.0",
            "_model_name": "LayoutModel",
            "_view_count": null,
            "_view_module": "@jupyter-widgets/base",
            "_view_module_version": "1.2.0",
            "_view_name": "LayoutView",
            "align_content": null,
            "align_items": null,
            "align_self": null,
            "border": null,
            "bottom": null,
            "display": null,
            "flex": null,
            "flex_flow": null,
            "grid_area": null,
            "grid_auto_columns": null,
            "grid_auto_flow": null,
            "grid_auto_rows": null,
            "grid_column": null,
            "grid_gap": null,
            "grid_row": null,
            "grid_template_areas": null,
            "grid_template_columns": null,
            "grid_template_rows": null,
            "height": null,
            "justify_content": null,
            "justify_items": null,
            "left": null,
            "margin": null,
            "max_height": null,
            "max_width": null,
            "min_height": null,
            "min_width": null,
            "object_fit": null,
            "object_position": null,
            "order": null,
            "overflow": null,
            "overflow_x": null,
            "overflow_y": null,
            "padding": null,
            "right": null,
            "top": null,
            "visibility": null,
            "width": null
          }
        },
        "9538075b2d5d4b7ba0cae210725d4525": {
          "model_module": "@jupyter-widgets/base",
          "model_module_version": "1.2.0",
          "model_name": "LayoutModel",
          "state": {
            "_model_module": "@jupyter-widgets/base",
            "_model_module_version": "1.2.0",
            "_model_name": "LayoutModel",
            "_view_count": null,
            "_view_module": "@jupyter-widgets/base",
            "_view_module_version": "1.2.0",
            "_view_name": "LayoutView",
            "align_content": null,
            "align_items": null,
            "align_self": null,
            "border": null,
            "bottom": null,
            "display": null,
            "flex": null,
            "flex_flow": null,
            "grid_area": null,
            "grid_auto_columns": null,
            "grid_auto_flow": null,
            "grid_auto_rows": null,
            "grid_column": null,
            "grid_gap": null,
            "grid_row": null,
            "grid_template_areas": null,
            "grid_template_columns": null,
            "grid_template_rows": null,
            "height": null,
            "justify_content": null,
            "justify_items": null,
            "left": null,
            "margin": null,
            "max_height": null,
            "max_width": null,
            "min_height": null,
            "min_width": null,
            "object_fit": null,
            "object_position": null,
            "order": null,
            "overflow": null,
            "overflow_x": null,
            "overflow_y": null,
            "padding": null,
            "right": null,
            "top": null,
            "visibility": null,
            "width": null
          }
        },
        "98cd63f022d74efba2a8f6bcd72243c8": {
          "model_module": "@jupyter-widgets/controls",
          "model_module_version": "1.5.0",
          "model_name": "HTMLModel",
          "state": {
            "_dom_classes": [],
            "_model_module": "@jupyter-widgets/controls",
            "_model_module_version": "1.5.0",
            "_model_name": "HTMLModel",
            "_view_count": null,
            "_view_module": "@jupyter-widgets/controls",
            "_view_module_version": "1.5.0",
            "_view_name": "HTMLView",
            "description": "",
            "description_tooltip": null,
            "layout": "IPY_MODEL_c07018bd1a1f4aa59ada73f10a898a36",
            "placeholder": "​",
            "style": "IPY_MODEL_e4018da63e4c4c43a8d2dddbaefb32dc",
            "value": "100%"
          }
        },
        "9999a69afeb54af08a1d01095e0b0fb5": {
          "model_module": "@jupyter-widgets/base",
          "model_module_version": "1.2.0",
          "model_name": "LayoutModel",
          "state": {
            "_model_module": "@jupyter-widgets/base",
            "_model_module_version": "1.2.0",
            "_model_name": "LayoutModel",
            "_view_count": null,
            "_view_module": "@jupyter-widgets/base",
            "_view_module_version": "1.2.0",
            "_view_name": "LayoutView",
            "align_content": null,
            "align_items": null,
            "align_self": null,
            "border": null,
            "bottom": null,
            "display": null,
            "flex": null,
            "flex_flow": null,
            "grid_area": null,
            "grid_auto_columns": null,
            "grid_auto_flow": null,
            "grid_auto_rows": null,
            "grid_column": null,
            "grid_gap": null,
            "grid_row": null,
            "grid_template_areas": null,
            "grid_template_columns": null,
            "grid_template_rows": null,
            "height": null,
            "justify_content": null,
            "justify_items": null,
            "left": null,
            "margin": null,
            "max_height": null,
            "max_width": null,
            "min_height": null,
            "min_width": null,
            "object_fit": null,
            "object_position": null,
            "order": null,
            "overflow": null,
            "overflow_x": null,
            "overflow_y": null,
            "padding": null,
            "right": null,
            "top": null,
            "visibility": null,
            "width": null
          }
        },
        "9bfb19becf1c4c21b706a0b3090a745e": {
          "model_module": "@jupyter-widgets/controls",
          "model_module_version": "1.5.0",
          "model_name": "DescriptionStyleModel",
          "state": {
            "_model_module": "@jupyter-widgets/controls",
            "_model_module_version": "1.5.0",
            "_model_name": "DescriptionStyleModel",
            "_view_count": null,
            "_view_module": "@jupyter-widgets/base",
            "_view_module_version": "1.2.0",
            "_view_name": "StyleView",
            "description_width": ""
          }
        },
        "a51711406cf643cd9e1d49f89f81fcdc": {
          "model_module": "@jupyter-widgets/controls",
          "model_module_version": "1.5.0",
          "model_name": "DescriptionStyleModel",
          "state": {
            "_model_module": "@jupyter-widgets/controls",
            "_model_module_version": "1.5.0",
            "_model_name": "DescriptionStyleModel",
            "_view_count": null,
            "_view_module": "@jupyter-widgets/base",
            "_view_module_version": "1.2.0",
            "_view_name": "StyleView",
            "description_width": ""
          }
        },
        "a571de8046a44c80bb404e78aebef18f": {
          "model_module": "@jupyter-widgets/base",
          "model_module_version": "1.2.0",
          "model_name": "LayoutModel",
          "state": {
            "_model_module": "@jupyter-widgets/base",
            "_model_module_version": "1.2.0",
            "_model_name": "LayoutModel",
            "_view_count": null,
            "_view_module": "@jupyter-widgets/base",
            "_view_module_version": "1.2.0",
            "_view_name": "LayoutView",
            "align_content": null,
            "align_items": null,
            "align_self": null,
            "border": null,
            "bottom": null,
            "display": null,
            "flex": null,
            "flex_flow": null,
            "grid_area": null,
            "grid_auto_columns": null,
            "grid_auto_flow": null,
            "grid_auto_rows": null,
            "grid_column": null,
            "grid_gap": null,
            "grid_row": null,
            "grid_template_areas": null,
            "grid_template_columns": null,
            "grid_template_rows": null,
            "height": null,
            "justify_content": null,
            "justify_items": null,
            "left": null,
            "margin": null,
            "max_height": null,
            "max_width": null,
            "min_height": null,
            "min_width": null,
            "object_fit": null,
            "object_position": null,
            "order": null,
            "overflow": null,
            "overflow_x": null,
            "overflow_y": null,
            "padding": null,
            "right": null,
            "top": null,
            "visibility": null,
            "width": null
          }
        },
        "b031955367b444069419cd9935917de8": {
          "model_module": "@jupyter-widgets/base",
          "model_module_version": "1.2.0",
          "model_name": "LayoutModel",
          "state": {
            "_model_module": "@jupyter-widgets/base",
            "_model_module_version": "1.2.0",
            "_model_name": "LayoutModel",
            "_view_count": null,
            "_view_module": "@jupyter-widgets/base",
            "_view_module_version": "1.2.0",
            "_view_name": "LayoutView",
            "align_content": null,
            "align_items": null,
            "align_self": null,
            "border": null,
            "bottom": null,
            "display": null,
            "flex": null,
            "flex_flow": null,
            "grid_area": null,
            "grid_auto_columns": null,
            "grid_auto_flow": null,
            "grid_auto_rows": null,
            "grid_column": null,
            "grid_gap": null,
            "grid_row": null,
            "grid_template_areas": null,
            "grid_template_columns": null,
            "grid_template_rows": null,
            "height": null,
            "justify_content": null,
            "justify_items": null,
            "left": null,
            "margin": null,
            "max_height": null,
            "max_width": null,
            "min_height": null,
            "min_width": null,
            "object_fit": null,
            "object_position": null,
            "order": null,
            "overflow": null,
            "overflow_x": null,
            "overflow_y": null,
            "padding": null,
            "right": null,
            "top": null,
            "visibility": null,
            "width": null
          }
        },
        "b0516e05f0064e8e84148208eca159ae": {
          "model_module": "@jupyter-widgets/controls",
          "model_module_version": "1.5.0",
          "model_name": "HTMLModel",
          "state": {
            "_dom_classes": [],
            "_model_module": "@jupyter-widgets/controls",
            "_model_module_version": "1.5.0",
            "_model_name": "HTMLModel",
            "_view_count": null,
            "_view_module": "@jupyter-widgets/controls",
            "_view_module_version": "1.5.0",
            "_view_name": "HTMLView",
            "description": "",
            "description_tooltip": null,
            "layout": "IPY_MODEL_7573e2b0939c49a9a1322e49b37a5327",
            "placeholder": "​",
            "style": "IPY_MODEL_c42a803dd3e8437db5f3f569d29de75b",
            "value": " 4.11M/4.11M [00:00&lt;00:00, 11.6MB/s]"
          }
        },
        "b1d4ad44c88647bb8ad351dcf4903e34": {
          "model_module": "@jupyter-widgets/base",
          "model_module_version": "1.2.0",
          "model_name": "LayoutModel",
          "state": {
            "_model_module": "@jupyter-widgets/base",
            "_model_module_version": "1.2.0",
            "_model_name": "LayoutModel",
            "_view_count": null,
            "_view_module": "@jupyter-widgets/base",
            "_view_module_version": "1.2.0",
            "_view_name": "LayoutView",
            "align_content": null,
            "align_items": null,
            "align_self": null,
            "border": null,
            "bottom": null,
            "display": null,
            "flex": null,
            "flex_flow": null,
            "grid_area": null,
            "grid_auto_columns": null,
            "grid_auto_flow": null,
            "grid_auto_rows": null,
            "grid_column": null,
            "grid_gap": null,
            "grid_row": null,
            "grid_template_areas": null,
            "grid_template_columns": null,
            "grid_template_rows": null,
            "height": null,
            "justify_content": null,
            "justify_items": null,
            "left": null,
            "margin": null,
            "max_height": null,
            "max_width": null,
            "min_height": null,
            "min_width": null,
            "object_fit": null,
            "object_position": null,
            "order": null,
            "overflow": null,
            "overflow_x": null,
            "overflow_y": null,
            "padding": null,
            "right": null,
            "top": null,
            "visibility": null,
            "width": null
          }
        },
        "b47cba8edfda490ca43cd6055f54c876": {
          "model_module": "@jupyter-widgets/controls",
          "model_module_version": "1.5.0",
          "model_name": "FloatProgressModel",
          "state": {
            "_dom_classes": [],
            "_model_module": "@jupyter-widgets/controls",
            "_model_module_version": "1.5.0",
            "_model_name": "FloatProgressModel",
            "_view_count": null,
            "_view_module": "@jupyter-widgets/controls",
            "_view_module_version": "1.5.0",
            "_view_name": "ProgressView",
            "bar_style": "success",
            "description": "",
            "description_tooltip": null,
            "layout": "IPY_MODEL_9538075b2d5d4b7ba0cae210725d4525",
            "max": 178272441,
            "min": 0,
            "orientation": "horizontal",
            "style": "IPY_MODEL_4b2dc714c37644a4885c9dfeed0300e9",
            "value": 178272441
          }
        },
        "b5487938a4714c1386578b7f5d96e102": {
          "model_module": "@jupyter-widgets/base",
          "model_module_version": "1.2.0",
          "model_name": "LayoutModel",
          "state": {
            "_model_module": "@jupyter-widgets/base",
            "_model_module_version": "1.2.0",
            "_model_name": "LayoutModel",
            "_view_count": null,
            "_view_module": "@jupyter-widgets/base",
            "_view_module_version": "1.2.0",
            "_view_name": "LayoutView",
            "align_content": null,
            "align_items": null,
            "align_self": null,
            "border": null,
            "bottom": null,
            "display": null,
            "flex": null,
            "flex_flow": null,
            "grid_area": null,
            "grid_auto_columns": null,
            "grid_auto_flow": null,
            "grid_auto_rows": null,
            "grid_column": null,
            "grid_gap": null,
            "grid_row": null,
            "grid_template_areas": null,
            "grid_template_columns": null,
            "grid_template_rows": null,
            "height": null,
            "justify_content": null,
            "justify_items": null,
            "left": null,
            "margin": null,
            "max_height": null,
            "max_width": null,
            "min_height": null,
            "min_width": null,
            "object_fit": null,
            "object_position": null,
            "order": null,
            "overflow": null,
            "overflow_x": null,
            "overflow_y": null,
            "padding": null,
            "right": null,
            "top": null,
            "visibility": null,
            "width": null
          }
        },
        "b8bccf925c9b4bb8bbd14de7a1bf9b3c": {
          "model_module": "@jupyter-widgets/controls",
          "model_module_version": "1.5.0",
          "model_name": "FloatProgressModel",
          "state": {
            "_dom_classes": [],
            "_model_module": "@jupyter-widgets/controls",
            "_model_module_version": "1.5.0",
            "_model_name": "FloatProgressModel",
            "_view_count": null,
            "_view_module": "@jupyter-widgets/controls",
            "_view_module_version": "1.5.0",
            "_view_name": "ProgressView",
            "bar_style": "success",
            "description": "",
            "description_tooltip": null,
            "layout": "IPY_MODEL_7442dfb015fd4fb58aeaa4ec5253fde0",
            "max": 15593297,
            "min": 0,
            "orientation": "horizontal",
            "style": "IPY_MODEL_6c1f41d3199743b18d91950777bdcb3f",
            "value": 15593297
          }
        },
        "c07018bd1a1f4aa59ada73f10a898a36": {
          "model_module": "@jupyter-widgets/base",
          "model_module_version": "1.2.0",
          "model_name": "LayoutModel",
          "state": {
            "_model_module": "@jupyter-widgets/base",
            "_model_module_version": "1.2.0",
            "_model_name": "LayoutModel",
            "_view_count": null,
            "_view_module": "@jupyter-widgets/base",
            "_view_module_version": "1.2.0",
            "_view_name": "LayoutView",
            "align_content": null,
            "align_items": null,
            "align_self": null,
            "border": null,
            "bottom": null,
            "display": null,
            "flex": null,
            "flex_flow": null,
            "grid_area": null,
            "grid_auto_columns": null,
            "grid_auto_flow": null,
            "grid_auto_rows": null,
            "grid_column": null,
            "grid_gap": null,
            "grid_row": null,
            "grid_template_areas": null,
            "grid_template_columns": null,
            "grid_template_rows": null,
            "height": null,
            "justify_content": null,
            "justify_items": null,
            "left": null,
            "margin": null,
            "max_height": null,
            "max_width": null,
            "min_height": null,
            "min_width": null,
            "object_fit": null,
            "object_position": null,
            "order": null,
            "overflow": null,
            "overflow_x": null,
            "overflow_y": null,
            "padding": null,
            "right": null,
            "top": null,
            "visibility": null,
            "width": null
          }
        },
        "c42a803dd3e8437db5f3f569d29de75b": {
          "model_module": "@jupyter-widgets/controls",
          "model_module_version": "1.5.0",
          "model_name": "DescriptionStyleModel",
          "state": {
            "_model_module": "@jupyter-widgets/controls",
            "_model_module_version": "1.5.0",
            "_model_name": "DescriptionStyleModel",
            "_view_count": null,
            "_view_module": "@jupyter-widgets/base",
            "_view_module_version": "1.2.0",
            "_view_name": "StyleView",
            "description_width": ""
          }
        },
        "c4b217d1bf174844a5b2635b9e27d451": {
          "model_module": "@jupyter-widgets/base",
          "model_module_version": "1.2.0",
          "model_name": "LayoutModel",
          "state": {
            "_model_module": "@jupyter-widgets/base",
            "_model_module_version": "1.2.0",
            "_model_name": "LayoutModel",
            "_view_count": null,
            "_view_module": "@jupyter-widgets/base",
            "_view_module_version": "1.2.0",
            "_view_name": "LayoutView",
            "align_content": null,
            "align_items": null,
            "align_self": null,
            "border": null,
            "bottom": null,
            "display": null,
            "flex": null,
            "flex_flow": null,
            "grid_area": null,
            "grid_auto_columns": null,
            "grid_auto_flow": null,
            "grid_auto_rows": null,
            "grid_column": null,
            "grid_gap": null,
            "grid_row": null,
            "grid_template_areas": null,
            "grid_template_columns": null,
            "grid_template_rows": null,
            "height": null,
            "justify_content": null,
            "justify_items": null,
            "left": null,
            "margin": null,
            "max_height": null,
            "max_width": null,
            "min_height": null,
            "min_width": null,
            "object_fit": null,
            "object_position": null,
            "order": null,
            "overflow": null,
            "overflow_x": null,
            "overflow_y": null,
            "padding": null,
            "right": null,
            "top": null,
            "visibility": null,
            "width": null
          }
        },
        "c5ad7971085f4ce5a7896c7b9fc148d1": {
          "model_module": "@jupyter-widgets/base",
          "model_module_version": "1.2.0",
          "model_name": "LayoutModel",
          "state": {
            "_model_module": "@jupyter-widgets/base",
            "_model_module_version": "1.2.0",
            "_model_name": "LayoutModel",
            "_view_count": null,
            "_view_module": "@jupyter-widgets/base",
            "_view_module_version": "1.2.0",
            "_view_name": "LayoutView",
            "align_content": null,
            "align_items": null,
            "align_self": null,
            "border": null,
            "bottom": null,
            "display": null,
            "flex": null,
            "flex_flow": null,
            "grid_area": null,
            "grid_auto_columns": null,
            "grid_auto_flow": null,
            "grid_auto_rows": null,
            "grid_column": null,
            "grid_gap": null,
            "grid_row": null,
            "grid_template_areas": null,
            "grid_template_columns": null,
            "grid_template_rows": null,
            "height": null,
            "justify_content": null,
            "justify_items": null,
            "left": null,
            "margin": null,
            "max_height": null,
            "max_width": null,
            "min_height": null,
            "min_width": null,
            "object_fit": null,
            "object_position": null,
            "order": null,
            "overflow": null,
            "overflow_x": null,
            "overflow_y": null,
            "padding": null,
            "right": null,
            "top": null,
            "visibility": null,
            "width": null
          }
        },
        "cb5d5ff2742d44cc84d23c94432f3e50": {
          "model_module": "@jupyter-widgets/controls",
          "model_module_version": "1.5.0",
          "model_name": "HTMLModel",
          "state": {
            "_dom_classes": [],
            "_model_module": "@jupyter-widgets/controls",
            "_model_module_version": "1.5.0",
            "_model_name": "HTMLModel",
            "_view_count": null,
            "_view_module": "@jupyter-widgets/controls",
            "_view_module_version": "1.5.0",
            "_view_name": "HTMLView",
            "description": "",
            "description_tooltip": null,
            "layout": "IPY_MODEL_7159a0665d7d40dd9edf8afb1d15bdb2",
            "placeholder": "​",
            "style": "IPY_MODEL_15191f4aecb043f692baffe88b5e4fb1",
            "value": "100%"
          }
        },
        "cfc734982793467e8c273f4be2a82f92": {
          "model_module": "@jupyter-widgets/controls",
          "model_module_version": "1.5.0",
          "model_name": "ProgressStyleModel",
          "state": {
            "_model_module": "@jupyter-widgets/controls",
            "_model_module_version": "1.5.0",
            "_model_name": "ProgressStyleModel",
            "_view_count": null,
            "_view_module": "@jupyter-widgets/base",
            "_view_module_version": "1.2.0",
            "_view_name": "StyleView",
            "bar_color": null,
            "description_width": ""
          }
        },
        "d5f9932399b84a229b40ca030aa12852": {
          "model_module": "@jupyter-widgets/base",
          "model_module_version": "1.2.0",
          "model_name": "LayoutModel",
          "state": {
            "_model_module": "@jupyter-widgets/base",
            "_model_module_version": "1.2.0",
            "_model_name": "LayoutModel",
            "_view_count": null,
            "_view_module": "@jupyter-widgets/base",
            "_view_module_version": "1.2.0",
            "_view_name": "LayoutView",
            "align_content": null,
            "align_items": null,
            "align_self": null,
            "border": null,
            "bottom": null,
            "display": null,
            "flex": null,
            "flex_flow": null,
            "grid_area": null,
            "grid_auto_columns": null,
            "grid_auto_flow": null,
            "grid_auto_rows": null,
            "grid_column": null,
            "grid_gap": null,
            "grid_row": null,
            "grid_template_areas": null,
            "grid_template_columns": null,
            "grid_template_rows": null,
            "height": null,
            "justify_content": null,
            "justify_items": null,
            "left": null,
            "margin": null,
            "max_height": null,
            "max_width": null,
            "min_height": null,
            "min_width": null,
            "object_fit": null,
            "object_position": null,
            "order": null,
            "overflow": null,
            "overflow_x": null,
            "overflow_y": null,
            "padding": null,
            "right": null,
            "top": null,
            "visibility": null,
            "width": null
          }
        },
        "da8bc2d58eb54517b3ded682955a1757": {
          "model_module": "@jupyter-widgets/base",
          "model_module_version": "1.2.0",
          "model_name": "LayoutModel",
          "state": {
            "_model_module": "@jupyter-widgets/base",
            "_model_module_version": "1.2.0",
            "_model_name": "LayoutModel",
            "_view_count": null,
            "_view_module": "@jupyter-widgets/base",
            "_view_module_version": "1.2.0",
            "_view_name": "LayoutView",
            "align_content": null,
            "align_items": null,
            "align_self": null,
            "border": null,
            "bottom": null,
            "display": null,
            "flex": null,
            "flex_flow": null,
            "grid_area": null,
            "grid_auto_columns": null,
            "grid_auto_flow": null,
            "grid_auto_rows": null,
            "grid_column": null,
            "grid_gap": null,
            "grid_row": null,
            "grid_template_areas": null,
            "grid_template_columns": null,
            "grid_template_rows": null,
            "height": null,
            "justify_content": null,
            "justify_items": null,
            "left": null,
            "margin": null,
            "max_height": null,
            "max_width": null,
            "min_height": null,
            "min_width": null,
            "object_fit": null,
            "object_position": null,
            "order": null,
            "overflow": null,
            "overflow_x": null,
            "overflow_y": null,
            "padding": null,
            "right": null,
            "top": null,
            "visibility": null,
            "width": null
          }
        },
        "e196473d96e64382a8833616b8efbf94": {
          "model_module": "@jupyter-widgets/controls",
          "model_module_version": "1.5.0",
          "model_name": "HTMLModel",
          "state": {
            "_dom_classes": [],
            "_model_module": "@jupyter-widgets/controls",
            "_model_module_version": "1.5.0",
            "_model_name": "HTMLModel",
            "_view_count": null,
            "_view_module": "@jupyter-widgets/controls",
            "_view_module_version": "1.5.0",
            "_view_name": "HTMLView",
            "description": "",
            "description_tooltip": null,
            "layout": "IPY_MODEL_c4b217d1bf174844a5b2635b9e27d451",
            "placeholder": "​",
            "style": "IPY_MODEL_62aa270cd33f4a23ba286194a08ce058",
            "value": " 14.9M/14.9M [00:00&lt;00:00, 31.2MB/s]"
          }
        },
        "e32308b669834bca89846abc7a96b714": {
          "model_module": "@jupyter-widgets/controls",
          "model_module_version": "1.5.0",
          "model_name": "HBoxModel",
          "state": {
            "_dom_classes": [],
            "_model_module": "@jupyter-widgets/controls",
            "_model_module_version": "1.5.0",
            "_model_name": "HBoxModel",
            "_view_count": null,
            "_view_module": "@jupyter-widgets/controls",
            "_view_module_version": "1.5.0",
            "_view_name": "HBoxView",
            "box_style": "",
            "children": [
              "IPY_MODEL_f71668b8d74340cdb606e136da84d6b5",
              "IPY_MODEL_f1a18f82e7ff40388558f0be0970ca7d",
              "IPY_MODEL_06d2c07c23614320a5cb67e3ebe87cb3"
            ],
            "layout": "IPY_MODEL_eb853050f5f74c57b9bf8e1138fadc36"
          }
        },
        "e4018da63e4c4c43a8d2dddbaefb32dc": {
          "model_module": "@jupyter-widgets/controls",
          "model_module_version": "1.5.0",
          "model_name": "DescriptionStyleModel",
          "state": {
            "_model_module": "@jupyter-widgets/controls",
            "_model_module_version": "1.5.0",
            "_model_name": "DescriptionStyleModel",
            "_view_count": null,
            "_view_module": "@jupyter-widgets/base",
            "_view_module_version": "1.2.0",
            "_view_name": "StyleView",
            "description_width": ""
          }
        },
        "e70b212dd6a9471a8dabf23bb5f4e233": {
          "model_module": "@jupyter-widgets/controls",
          "model_module_version": "1.5.0",
          "model_name": "FloatProgressModel",
          "state": {
            "_dom_classes": [],
            "_model_module": "@jupyter-widgets/controls",
            "_model_module_version": "1.5.0",
            "_model_name": "FloatProgressModel",
            "_view_count": null,
            "_view_module": "@jupyter-widgets/controls",
            "_view_module_version": "1.5.0",
            "_view_name": "ProgressView",
            "bar_style": "success",
            "description": "",
            "description_tooltip": null,
            "layout": "IPY_MODEL_7e3fec6b1c6044319e2ba04601508305",
            "max": 4313489,
            "min": 0,
            "orientation": "horizontal",
            "style": "IPY_MODEL_619231d2e8b74e6e8ec312c2a81f27e9",
            "value": 4313489
          }
        },
        "e913ef94646442e9b51717a1f5ba1da7": {
          "model_module": "@jupyter-widgets/controls",
          "model_module_version": "1.5.0",
          "model_name": "FloatProgressModel",
          "state": {
            "_dom_classes": [],
            "_model_module": "@jupyter-widgets/controls",
            "_model_module_version": "1.5.0",
            "_model_name": "FloatProgressModel",
            "_view_count": null,
            "_view_module": "@jupyter-widgets/controls",
            "_view_module_version": "1.5.0",
            "_view_name": "ProgressView",
            "bar_style": "success",
            "description": "",
            "description_tooltip": null,
            "layout": "IPY_MODEL_524a0a2883574902b66800eab0e64e11",
            "max": 7119623,
            "min": 0,
            "orientation": "horizontal",
            "style": "IPY_MODEL_009934aed23440028f204e660387ba9a",
            "value": 7119623
          }
        },
        "eb853050f5f74c57b9bf8e1138fadc36": {
          "model_module": "@jupyter-widgets/base",
          "model_module_version": "1.2.0",
          "model_name": "LayoutModel",
          "state": {
            "_model_module": "@jupyter-widgets/base",
            "_model_module_version": "1.2.0",
            "_model_name": "LayoutModel",
            "_view_count": null,
            "_view_module": "@jupyter-widgets/base",
            "_view_module_version": "1.2.0",
            "_view_name": "LayoutView",
            "align_content": null,
            "align_items": null,
            "align_self": null,
            "border": null,
            "bottom": null,
            "display": null,
            "flex": null,
            "flex_flow": null,
            "grid_area": null,
            "grid_auto_columns": null,
            "grid_auto_flow": null,
            "grid_auto_rows": null,
            "grid_column": null,
            "grid_gap": null,
            "grid_row": null,
            "grid_template_areas": null,
            "grid_template_columns": null,
            "grid_template_rows": null,
            "height": null,
            "justify_content": null,
            "justify_items": null,
            "left": null,
            "margin": null,
            "max_height": null,
            "max_width": null,
            "min_height": null,
            "min_width": null,
            "object_fit": null,
            "object_position": null,
            "order": null,
            "overflow": null,
            "overflow_x": null,
            "overflow_y": null,
            "padding": null,
            "right": null,
            "top": null,
            "visibility": null,
            "width": null
          }
        },
        "ed3649aed0db4215b93167305c4415aa": {
          "model_module": "@jupyter-widgets/controls",
          "model_module_version": "1.5.0",
          "model_name": "HTMLModel",
          "state": {
            "_dom_classes": [],
            "_model_module": "@jupyter-widgets/controls",
            "_model_module_version": "1.5.0",
            "_model_name": "HTMLModel",
            "_view_count": null,
            "_view_module": "@jupyter-widgets/controls",
            "_view_module_version": "1.5.0",
            "_view_name": "HTMLView",
            "description": "",
            "description_tooltip": null,
            "layout": "IPY_MODEL_6abd641cfffe4b5f9ce282aedf002275",
            "placeholder": "​",
            "style": "IPY_MODEL_9bfb19becf1c4c21b706a0b3090a745e",
            "value": "100%"
          }
        },
        "ef917512acea4bed835df94e695b6169": {
          "model_module": "@jupyter-widgets/base",
          "model_module_version": "1.2.0",
          "model_name": "LayoutModel",
          "state": {
            "_model_module": "@jupyter-widgets/base",
            "_model_module_version": "1.2.0",
            "_model_name": "LayoutModel",
            "_view_count": null,
            "_view_module": "@jupyter-widgets/base",
            "_view_module_version": "1.2.0",
            "_view_name": "LayoutView",
            "align_content": null,
            "align_items": null,
            "align_self": null,
            "border": null,
            "bottom": null,
            "display": null,
            "flex": null,
            "flex_flow": null,
            "grid_area": null,
            "grid_auto_columns": null,
            "grid_auto_flow": null,
            "grid_auto_rows": null,
            "grid_column": null,
            "grid_gap": null,
            "grid_row": null,
            "grid_template_areas": null,
            "grid_template_columns": null,
            "grid_template_rows": null,
            "height": null,
            "justify_content": null,
            "justify_items": null,
            "left": null,
            "margin": null,
            "max_height": null,
            "max_width": null,
            "min_height": null,
            "min_width": null,
            "object_fit": null,
            "object_position": null,
            "order": null,
            "overflow": null,
            "overflow_x": null,
            "overflow_y": null,
            "padding": null,
            "right": null,
            "top": null,
            "visibility": null,
            "width": null
          }
        },
        "f1a18f82e7ff40388558f0be0970ca7d": {
          "model_module": "@jupyter-widgets/controls",
          "model_module_version": "1.5.0",
          "model_name": "FloatProgressModel",
          "state": {
            "_dom_classes": [],
            "_model_module": "@jupyter-widgets/controls",
            "_model_module_version": "1.5.0",
            "_model_name": "FloatProgressModel",
            "_view_count": null,
            "_view_module": "@jupyter-widgets/controls",
            "_view_module_version": "1.5.0",
            "_view_name": "ProgressView",
            "bar_style": "success",
            "description": "",
            "description_tooltip": null,
            "layout": "IPY_MODEL_c5ad7971085f4ce5a7896c7b9fc148d1",
            "max": 96361473,
            "min": 0,
            "orientation": "horizontal",
            "style": "IPY_MODEL_cfc734982793467e8c273f4be2a82f92",
            "value": 96361473
          }
        },
        "f478fdecbde6486486117df31ec64030": {
          "model_module": "@jupyter-widgets/controls",
          "model_module_version": "1.5.0",
          "model_name": "ProgressStyleModel",
          "state": {
            "_model_module": "@jupyter-widgets/controls",
            "_model_module_version": "1.5.0",
            "_model_name": "ProgressStyleModel",
            "_view_count": null,
            "_view_module": "@jupyter-widgets/base",
            "_view_module_version": "1.2.0",
            "_view_name": "StyleView",
            "bar_color": null,
            "description_width": ""
          }
        },
        "f71668b8d74340cdb606e136da84d6b5": {
          "model_module": "@jupyter-widgets/controls",
          "model_module_version": "1.5.0",
          "model_name": "HTMLModel",
          "state": {
            "_dom_classes": [],
            "_model_module": "@jupyter-widgets/controls",
            "_model_module_version": "1.5.0",
            "_model_name": "HTMLModel",
            "_view_count": null,
            "_view_module": "@jupyter-widgets/controls",
            "_view_module_version": "1.5.0",
            "_view_name": "HTMLView",
            "description": "",
            "description_tooltip": null,
            "layout": "IPY_MODEL_924e8f677ec34b84a28121e9d3d3e374",
            "placeholder": "​",
            "style": "IPY_MODEL_2fc330dd3c7f4295b69d04f388279559",
            "value": "100%"
          }
        },
        "f955de9788474d0bb4d2906c24810a58": {
          "model_module": "@jupyter-widgets/controls",
          "model_module_version": "1.5.0",
          "model_name": "HBoxModel",
          "state": {
            "_dom_classes": [],
            "_model_module": "@jupyter-widgets/controls",
            "_model_module_version": "1.5.0",
            "_model_name": "HBoxModel",
            "_view_count": null,
            "_view_module": "@jupyter-widgets/controls",
            "_view_module_version": "1.5.0",
            "_view_name": "HBoxView",
            "box_style": "",
            "children": [
              "IPY_MODEL_ffe20372db01446bbdd9d56ba6df9961",
              "IPY_MODEL_b47cba8edfda490ca43cd6055f54c876",
              "IPY_MODEL_1647655d03fc402792c1cf5c25c08c93"
            ],
            "layout": "IPY_MODEL_7fd89ee65a2840739c9593a0b87c0306"
          }
        },
        "fb4c3283175b4e52b15ce9fd382a6d85": {
          "model_module": "@jupyter-widgets/controls",
          "model_module_version": "1.5.0",
          "model_name": "DescriptionStyleModel",
          "state": {
            "_model_module": "@jupyter-widgets/controls",
            "_model_module_version": "1.5.0",
            "_model_name": "DescriptionStyleModel",
            "_view_count": null,
            "_view_module": "@jupyter-widgets/base",
            "_view_module_version": "1.2.0",
            "_view_name": "StyleView",
            "description_width": ""
          }
        },
        "ffe20372db01446bbdd9d56ba6df9961": {
          "model_module": "@jupyter-widgets/controls",
          "model_module_version": "1.5.0",
          "model_name": "HTMLModel",
          "state": {
            "_dom_classes": [],
            "_model_module": "@jupyter-widgets/controls",
            "_model_module_version": "1.5.0",
            "_model_name": "HTMLModel",
            "_view_count": null,
            "_view_module": "@jupyter-widgets/controls",
            "_view_module_version": "1.5.0",
            "_view_name": "HTMLView",
            "description": "",
            "description_tooltip": null,
            "layout": "IPY_MODEL_b5487938a4714c1386578b7f5d96e102",
            "placeholder": "​",
            "style": "IPY_MODEL_fb4c3283175b4e52b15ce9fd382a6d85",
            "value": "100%"
          }
        }
      }
    }
  },
  "nbformat": 4,
  "nbformat_minor": 0
}
